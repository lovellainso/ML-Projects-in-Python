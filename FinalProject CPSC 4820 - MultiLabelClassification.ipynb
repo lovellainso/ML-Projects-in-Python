{
 "cells": [
  {
   "cell_type": "markdown",
   "metadata": {
    "id": "2HqFxCBUql_c"
   },
   "source": [
    "# CPSC 4820 - DATA VISUALIZATION (FINAL PROJECT)"
   ]
  },
  {
   "cell_type": "markdown",
   "metadata": {
    "id": "iC8HF1ikql_j"
   },
   "source": [
    "### by: Lovella L. Inso\n",
    "<br>\n",
    "This project is a Multi Label Text Classification, wherein I used stackoverflow dataset (questions and tags).\n",
    "Based on the questions and topics from stackoverflow data, the model will generate and suggest tags.\n",
    "This model will be used in a web-based detection and classification labeling.\n",
    "\n",
    "![alt text](Screenshot.png)\n",
    "<hr>\n"
   ]
  },
  {
   "cell_type": "markdown",
   "metadata": {
    "_uuid": "a7cf70d54413735fe632aaa5df43f34e353e0ff4",
    "id": "I1IP5_ALql_k"
   },
   "source": [
    "**PART 1: Cleaning Data and Exploratory Data Analysis**"
   ]
  },
  {
   "cell_type": "markdown",
   "metadata": {
    "_uuid": "abe58b6f63ad6fc975f6b62c1a47d3af54a943e5",
    "id": "c6pMqZZ9ql_l"
   },
   "source": [
    "**1.1 Setting up the dataset for later training**"
   ]
  },
  {
   "cell_type": "markdown",
   "metadata": {
    "_uuid": "6ddb1e9c1032972f4c87204650195ee00fb3bb29",
    "id": "gCjMZ9bTql_m"
   },
   "source": [
    "Importing useful libraries at first"
   ]
  },
  {
   "cell_type": "code",
   "execution_count": 1,
   "metadata": {
    "_cell_guid": "b1076dfc-b9ad-4769-8c92-a6c4dae69d19",
    "_kg_hide-input": true,
    "_uuid": "8f2839f25d086af736a60e9eeb907d3b93b6e0e5",
    "executionInfo": {
     "elapsed": 1451,
     "status": "ok",
     "timestamp": 1702429133245,
     "user": {
      "displayName": "Alexandria Perocho",
      "userId": "08190836204391597776"
     },
     "user_tz": 480
    },
    "id": "p5GAWxVbql_m"
   },
   "outputs": [],
   "source": [
    "import pandas as pd\n",
    "import numpy as np\n",
    "\n",
    "\n",
    "import matplotlib.pyplot as plt\n",
    "import matplotlib.lines as mlines\n",
    "import seaborn as sns\n",
    "\n",
    "import warnings\n",
    "\n",
    "import pickle\n",
    "import time\n",
    "\n",
    "import re\n",
    "from bs4 import BeautifulSoup\n",
    "import nltk\n",
    "from nltk.tokenize import ToktokTokenizer\n",
    "from nltk.stem.wordnet import WordNetLemmatizer\n",
    "from nltk.corpus import stopwords\n",
    "from string import punctuation\n",
    "\n",
    "from sklearn.feature_extraction.text import TfidfVectorizer\n",
    "from sklearn.decomposition import LatentDirichletAllocation\n",
    "from sklearn.preprocessing import MultiLabelBinarizer\n",
    "from sklearn.model_selection import train_test_split\n",
    "from sklearn.model_selection import learning_curve\n",
    "from sklearn.model_selection import ShuffleSplit\n",
    "from sklearn.dummy import DummyClassifier\n",
    "from sklearn.naive_bayes import MultinomialNB\n",
    "from sklearn.linear_model import SGDClassifier\n",
    "from sklearn.linear_model import LogisticRegression\n",
    "from sklearn.multiclass import OneVsRestClassifier\n",
    "from sklearn.svm import LinearSVC\n",
    "from sklearn.linear_model import Perceptron\n",
    "from sklearn.linear_model import PassiveAggressiveClassifier\n",
    "from sklearn.neural_network import MLPClassifier\n",
    "from sklearn.ensemble import RandomForestClassifier\n",
    "from sklearn import model_selection\n",
    "from sklearn.metrics import make_scorer\n",
    "from sklearn.metrics import confusion_matrix\n",
    "from sklearn.metrics import hamming_loss\n",
    "from sklearn.cluster import KMeans\n",
    "\n",
    "\n",
    "import logging\n",
    "\n",
    "from scipy.sparse import hstack\n",
    "\n",
    "warnings.filterwarnings(\"ignore\")\n",
    "plt.style.use('bmh')\n",
    "%matplotlib inline"
   ]
  },
  {
   "cell_type": "code",
   "execution_count": 2,
   "metadata": {
    "_cell_guid": "79c7e3d0-c299-4dcb-8224-4455121ee9b0",
    "_uuid": "d629ff2d2480ee46fbb7e2d37f6b5fab8052498a",
    "executionInfo": {
     "elapsed": 6,
     "status": "ok",
     "timestamp": 1702429133246,
     "user": {
      "displayName": "Alexandria Perocho",
      "userId": "08190836204391597776"
     },
     "user_tz": 480
    },
    "id": "Q4PlNCIRql_o"
   },
   "outputs": [],
   "source": [
    "# Setting a random seed in order to keep the same random results each time we run the notebook\n",
    "np.random.seed(seed=11)"
   ]
  },
  {
   "cell_type": "code",
   "execution_count": 3,
   "metadata": {
    "_uuid": "dc1c92bf4166de1e2ce4bfb229b40b32eb94374a",
    "executionInfo": {
     "elapsed": 345,
     "status": "ok",
     "timestamp": 1702429133586,
     "user": {
      "displayName": "Alexandria Perocho",
      "userId": "08190836204391597776"
     },
     "user_tz": 480
    },
    "id": "rlaQfU_kql_p"
   },
   "outputs": [],
   "source": [
    "import os"
   ]
  },
  {
   "cell_type": "code",
   "execution_count": 4,
   "metadata": {
    "_uuid": "120edf8b2306a6391ad992cf3f48598739ec1940",
    "executionInfo": {
     "elapsed": 5337,
     "status": "ok",
     "timestamp": 1702429163403,
     "user": {
      "displayName": "Alexandria Perocho",
      "userId": "08190836204391597776"
     },
     "user_tz": 480
    },
    "id": "Flf4c6fQql_q"
   },
   "outputs": [],
   "source": [
    "# Importing the database\n",
    "\n",
    "df = pd.read_csv(\"Questions.csv\", encoding=\"ISO-8859-1\")"
   ]
  },
  {
   "cell_type": "code",
   "execution_count": 5,
   "metadata": {
    "_uuid": "40c3e09d38aecf03ce13fd0d88809e80a67d3d1a",
    "colab": {
     "base_uri": "https://localhost:8080/",
     "height": 293
    },
    "executionInfo": {
     "elapsed": 292,
     "status": "ok",
     "timestamp": 1702429166792,
     "user": {
      "displayName": "Alexandria Perocho",
      "userId": "08190836204391597776"
     },
     "user_tz": 480
    },
    "id": "nR4TM2AUql_r",
    "outputId": "fdfe3d45-d39b-4f3b-97d0-656897638ae5"
   },
   "outputs": [
    {
     "data": {
      "text/html": [
       "<div>\n",
       "<style scoped>\n",
       "    .dataframe tbody tr th:only-of-type {\n",
       "        vertical-align: middle;\n",
       "    }\n",
       "\n",
       "    .dataframe tbody tr th {\n",
       "        vertical-align: top;\n",
       "    }\n",
       "\n",
       "    .dataframe thead th {\n",
       "        text-align: right;\n",
       "    }\n",
       "</style>\n",
       "<table border=\"1\" class=\"dataframe\">\n",
       "  <thead>\n",
       "    <tr style=\"text-align: right;\">\n",
       "      <th></th>\n",
       "      <th>Id</th>\n",
       "      <th>OwnerUserId</th>\n",
       "      <th>CreationDate</th>\n",
       "      <th>ClosedDate</th>\n",
       "      <th>Score</th>\n",
       "      <th>Title</th>\n",
       "      <th>Body</th>\n",
       "    </tr>\n",
       "  </thead>\n",
       "  <tbody>\n",
       "    <tr>\n",
       "      <th>0</th>\n",
       "      <td>80</td>\n",
       "      <td>26.0</td>\n",
       "      <td>2008-08-01T13:57:07Z</td>\n",
       "      <td>NaN</td>\n",
       "      <td>26</td>\n",
       "      <td>SQLStatement.execute() - multiple queries in o...</td>\n",
       "      <td>&lt;p&gt;I've written a database generation script i...</td>\n",
       "    </tr>\n",
       "    <tr>\n",
       "      <th>1</th>\n",
       "      <td>90</td>\n",
       "      <td>58.0</td>\n",
       "      <td>2008-08-01T14:41:24Z</td>\n",
       "      <td>2012-12-26T03:45:49Z</td>\n",
       "      <td>144</td>\n",
       "      <td>Good branching and merging tutorials for Torto...</td>\n",
       "      <td>&lt;p&gt;Are there any really good tutorials explain...</td>\n",
       "    </tr>\n",
       "    <tr>\n",
       "      <th>2</th>\n",
       "      <td>120</td>\n",
       "      <td>83.0</td>\n",
       "      <td>2008-08-01T15:50:08Z</td>\n",
       "      <td>NaN</td>\n",
       "      <td>21</td>\n",
       "      <td>ASP.NET Site Maps</td>\n",
       "      <td>&lt;p&gt;Has anyone got experience creating &lt;strong&gt;...</td>\n",
       "    </tr>\n",
       "    <tr>\n",
       "      <th>3</th>\n",
       "      <td>180</td>\n",
       "      <td>2089740.0</td>\n",
       "      <td>2008-08-01T18:42:19Z</td>\n",
       "      <td>NaN</td>\n",
       "      <td>53</td>\n",
       "      <td>Function for creating color wheels</td>\n",
       "      <td>&lt;p&gt;This is something I've pseudo-solved many t...</td>\n",
       "    </tr>\n",
       "    <tr>\n",
       "      <th>4</th>\n",
       "      <td>260</td>\n",
       "      <td>91.0</td>\n",
       "      <td>2008-08-01T23:22:08Z</td>\n",
       "      <td>NaN</td>\n",
       "      <td>49</td>\n",
       "      <td>Adding scripting functionality to .NET applica...</td>\n",
       "      <td>&lt;p&gt;I have a little game written in C#. It uses...</td>\n",
       "    </tr>\n",
       "  </tbody>\n",
       "</table>\n",
       "</div>"
      ],
      "text/plain": [
       "    Id  OwnerUserId          CreationDate            ClosedDate  Score  \\\n",
       "0   80         26.0  2008-08-01T13:57:07Z                   NaN     26   \n",
       "1   90         58.0  2008-08-01T14:41:24Z  2012-12-26T03:45:49Z    144   \n",
       "2  120         83.0  2008-08-01T15:50:08Z                   NaN     21   \n",
       "3  180    2089740.0  2008-08-01T18:42:19Z                   NaN     53   \n",
       "4  260         91.0  2008-08-01T23:22:08Z                   NaN     49   \n",
       "\n",
       "                                               Title  \\\n",
       "0  SQLStatement.execute() - multiple queries in o...   \n",
       "1  Good branching and merging tutorials for Torto...   \n",
       "2                                  ASP.NET Site Maps   \n",
       "3                 Function for creating color wheels   \n",
       "4  Adding scripting functionality to .NET applica...   \n",
       "\n",
       "                                                Body  \n",
       "0  <p>I've written a database generation script i...  \n",
       "1  <p>Are there any really good tutorials explain...  \n",
       "2  <p>Has anyone got experience creating <strong>...  \n",
       "3  <p>This is something I've pseudo-solved many t...  \n",
       "4  <p>I have a little game written in C#. It uses...  "
      ]
     },
     "execution_count": 5,
     "metadata": {},
     "output_type": "execute_result"
    }
   ],
   "source": [
    "df.head(5)"
   ]
  },
  {
   "cell_type": "code",
   "execution_count": 6,
   "metadata": {
    "_uuid": "9beed1bea78dd1ed930caeef2923aef03420e1cc",
    "colab": {
     "base_uri": "https://localhost:8080/",
     "height": 234
    },
    "executionInfo": {
     "elapsed": 204,
     "status": "error",
     "timestamp": 1702429235771,
     "user": {
      "displayName": "Alexandria Perocho",
      "userId": "08190836204391597776"
     },
     "user_tz": 480
    },
    "id": "OPa-w2Tkql_s",
    "outputId": "338dd76c-a51d-4888-e1bf-da6accb9fa5d"
   },
   "outputs": [],
   "source": [
    "tags = pd.read_csv(\"Tags.csv\", encoding=\"ISO-8859-1\", dtype={'Tag': str})"
   ]
  },
  {
   "cell_type": "code",
   "execution_count": 7,
   "metadata": {
    "_uuid": "3f4a7e6a7ee2745fc207f19fccb9c0dbc3a571a4",
    "colab": {
     "base_uri": "https://localhost:8080/",
     "height": 175
    },
    "executionInfo": {
     "elapsed": 51,
     "status": "error",
     "timestamp": 1702429200742,
     "user": {
      "displayName": "Alexandria Perocho",
      "userId": "08190836204391597776"
     },
     "user_tz": 480
    },
    "id": "YuQbAT0kql_s",
    "outputId": "aa39dc94-3c25-4819-a923-3b8156f93153"
   },
   "outputs": [
    {
     "data": {
      "text/html": [
       "<div>\n",
       "<style scoped>\n",
       "    .dataframe tbody tr th:only-of-type {\n",
       "        vertical-align: middle;\n",
       "    }\n",
       "\n",
       "    .dataframe tbody tr th {\n",
       "        vertical-align: top;\n",
       "    }\n",
       "\n",
       "    .dataframe thead th {\n",
       "        text-align: right;\n",
       "    }\n",
       "</style>\n",
       "<table border=\"1\" class=\"dataframe\">\n",
       "  <thead>\n",
       "    <tr style=\"text-align: right;\">\n",
       "      <th></th>\n",
       "      <th>Id</th>\n",
       "      <th>Tag</th>\n",
       "    </tr>\n",
       "  </thead>\n",
       "  <tbody>\n",
       "    <tr>\n",
       "      <th>0</th>\n",
       "      <td>80</td>\n",
       "      <td>flex</td>\n",
       "    </tr>\n",
       "    <tr>\n",
       "      <th>1</th>\n",
       "      <td>80</td>\n",
       "      <td>actionscript-3</td>\n",
       "    </tr>\n",
       "    <tr>\n",
       "      <th>2</th>\n",
       "      <td>80</td>\n",
       "      <td>air</td>\n",
       "    </tr>\n",
       "    <tr>\n",
       "      <th>3</th>\n",
       "      <td>90</td>\n",
       "      <td>svn</td>\n",
       "    </tr>\n",
       "    <tr>\n",
       "      <th>4</th>\n",
       "      <td>90</td>\n",
       "      <td>tortoisesvn</td>\n",
       "    </tr>\n",
       "  </tbody>\n",
       "</table>\n",
       "</div>"
      ],
      "text/plain": [
       "   Id             Tag\n",
       "0  80            flex\n",
       "1  80  actionscript-3\n",
       "2  80             air\n",
       "3  90             svn\n",
       "4  90     tortoisesvn"
      ]
     },
     "execution_count": 7,
     "metadata": {},
     "output_type": "execute_result"
    }
   ],
   "source": [
    "tags.head(5)"
   ]
  },
  {
   "cell_type": "code",
   "execution_count": 8,
   "metadata": {
    "_uuid": "ab191660e879734a6c26d1c1f2afd0e1218a50fc",
    "executionInfo": {
     "elapsed": 50,
     "status": "aborted",
     "timestamp": 1702429200742,
     "user": {
      "displayName": "Alexandria Perocho",
      "userId": "08190836204391597776"
     },
     "user_tz": 480
    },
    "id": "J8rZVlG_ql_t"
   },
   "outputs": [
    {
     "name": "stdout",
     "output_type": "stream",
     "text": [
      "<class 'pandas.core.frame.DataFrame'>\n",
      "RangeIndex: 1264216 entries, 0 to 1264215\n",
      "Data columns (total 7 columns):\n",
      " #   Column        Non-Null Count    Dtype  \n",
      "---  ------        --------------    -----  \n",
      " 0   Id            1264216 non-null  int64  \n",
      " 1   OwnerUserId   1249762 non-null  float64\n",
      " 2   CreationDate  1264216 non-null  object \n",
      " 3   ClosedDate    55959 non-null    object \n",
      " 4   Score         1264216 non-null  int64  \n",
      " 5   Title         1264216 non-null  object \n",
      " 6   Body          1264216 non-null  object \n",
      "dtypes: float64(1), int64(2), object(4)\n",
      "memory usage: 67.5+ MB\n"
     ]
    }
   ],
   "source": [
    "df.info()"
   ]
  },
  {
   "cell_type": "code",
   "execution_count": 9,
   "metadata": {
    "_uuid": "b71d45e2c86152d95f22679f01d8f855b042a62e",
    "executionInfo": {
     "elapsed": 51,
     "status": "aborted",
     "timestamp": 1702429200743,
     "user": {
      "displayName": "Alexandria Perocho",
      "userId": "08190836204391597776"
     },
     "user_tz": 480
    },
    "id": "xj_CZ-PKql_t"
   },
   "outputs": [
    {
     "name": "stdout",
     "output_type": "stream",
     "text": [
      "<class 'pandas.core.frame.DataFrame'>\n",
      "RangeIndex: 3750994 entries, 0 to 3750993\n",
      "Data columns (total 2 columns):\n",
      " #   Column  Dtype \n",
      "---  ------  ----- \n",
      " 0   Id      int64 \n",
      " 1   Tag     object\n",
      "dtypes: int64(1), object(1)\n",
      "memory usage: 57.2+ MB\n"
     ]
    }
   ],
   "source": [
    "tags.info()"
   ]
  },
  {
   "cell_type": "markdown",
   "metadata": {
    "_uuid": "ec6a03e07edd3ce3de1f20f073bdf18ffca87f4c",
    "id": "WDHEgH4Dql_u"
   },
   "source": [
    "First, what we want to do is to merge both dataframes. In order to do that, we'll have to group tags by the id of the post since a post can have multiple tags. we'll just use the groupeby function and then merge the dataframes on the id."
   ]
  },
  {
   "cell_type": "code",
   "execution_count": 10,
   "metadata": {
    "_uuid": "933761c8b2bdb668e0bca3c9ea9cab36dd1a4391",
    "executionInfo": {
     "elapsed": 51,
     "status": "aborted",
     "timestamp": 1702429200743,
     "user": {
      "displayName": "Alexandria Perocho",
      "userId": "08190836204391597776"
     },
     "user_tz": 480
    },
    "id": "Y_AN8-pGql_u"
   },
   "outputs": [],
   "source": [
    "tags['Tag'] = tags['Tag'].astype(str)"
   ]
  },
  {
   "cell_type": "code",
   "execution_count": 11,
   "metadata": {
    "_kg_hide-output": true,
    "_uuid": "267d7c8f01a3b427ab139d689ce5d13ab8820913",
    "executionInfo": {
     "elapsed": 51,
     "status": "aborted",
     "timestamp": 1702429200743,
     "user": {
      "displayName": "Alexandria Perocho",
      "userId": "08190836204391597776"
     },
     "user_tz": 480
    },
    "id": "Xfc71ypOql_u"
   },
   "outputs": [],
   "source": [
    "grouped_tags = tags.groupby(\"Id\")['Tag'].apply(lambda tags: ' '.join(tags))"
   ]
  },
  {
   "cell_type": "code",
   "execution_count": 12,
   "metadata": {
    "_uuid": "d4096130e47ec904f9bbe27822d1ddf403a675dc",
    "executionInfo": {
     "elapsed": 51,
     "status": "aborted",
     "timestamp": 1702429200743,
     "user": {
      "displayName": "Alexandria Perocho",
      "userId": "08190836204391597776"
     },
     "user_tz": 480
    },
    "id": "jZC-VxNBql_u"
   },
   "outputs": [
    {
     "data": {
      "text/plain": [
       "Id\n",
       "80                            flex actionscript-3 air\n",
       "90       svn tortoisesvn branch branching-and-merging\n",
       "120                               sql asp.net sitemap\n",
       "180    algorithm language-agnostic colors color-space\n",
       "260           c# .net scripting compiler-construction\n",
       "Name: Tag, dtype: object"
      ]
     },
     "execution_count": 12,
     "metadata": {},
     "output_type": "execute_result"
    }
   ],
   "source": [
    "grouped_tags.head(5)"
   ]
  },
  {
   "cell_type": "code",
   "execution_count": 13,
   "metadata": {
    "_kg_hide-output": true,
    "_uuid": "a9ecae8a6445c671d9c0a1b207df8b530bae70ab",
    "colab": {
     "base_uri": "https://localhost:8080/",
     "height": 175
    },
    "executionInfo": {
     "elapsed": 51,
     "status": "error",
     "timestamp": 1702429200743,
     "user": {
      "displayName": "Alexandria Perocho",
      "userId": "08190836204391597776"
     },
     "user_tz": 480
    },
    "id": "eZ2EsgnBql_u",
    "outputId": "5c5cb8fb-cc1c-49b7-f929-2a2ba94a0657"
   },
   "outputs": [
    {
     "data": {
      "text/html": [
       "<div>\n",
       "<style scoped>\n",
       "    .dataframe tbody tr th:only-of-type {\n",
       "        vertical-align: middle;\n",
       "    }\n",
       "\n",
       "    .dataframe tbody tr th {\n",
       "        vertical-align: top;\n",
       "    }\n",
       "\n",
       "    .dataframe thead th {\n",
       "        text-align: right;\n",
       "    }\n",
       "</style>\n",
       "<table border=\"1\" class=\"dataframe\">\n",
       "  <thead>\n",
       "    <tr style=\"text-align: right;\">\n",
       "      <th></th>\n",
       "      <th>Id</th>\n",
       "      <th>Tag</th>\n",
       "    </tr>\n",
       "  </thead>\n",
       "  <tbody>\n",
       "    <tr>\n",
       "      <th>0</th>\n",
       "      <td>80</td>\n",
       "      <td>flex actionscript-3 air</td>\n",
       "    </tr>\n",
       "    <tr>\n",
       "      <th>1</th>\n",
       "      <td>90</td>\n",
       "      <td>svn tortoisesvn branch branching-and-merging</td>\n",
       "    </tr>\n",
       "    <tr>\n",
       "      <th>2</th>\n",
       "      <td>120</td>\n",
       "      <td>sql asp.net sitemap</td>\n",
       "    </tr>\n",
       "    <tr>\n",
       "      <th>3</th>\n",
       "      <td>180</td>\n",
       "      <td>algorithm language-agnostic colors color-space</td>\n",
       "    </tr>\n",
       "    <tr>\n",
       "      <th>4</th>\n",
       "      <td>260</td>\n",
       "      <td>c# .net scripting compiler-construction</td>\n",
       "    </tr>\n",
       "    <tr>\n",
       "      <th>...</th>\n",
       "      <td>...</td>\n",
       "      <td>...</td>\n",
       "    </tr>\n",
       "    <tr>\n",
       "      <th>1264211</th>\n",
       "      <td>40143210</td>\n",
       "      <td>php .htaccess</td>\n",
       "    </tr>\n",
       "    <tr>\n",
       "      <th>1264212</th>\n",
       "      <td>40143300</td>\n",
       "      <td>google-bigquery</td>\n",
       "    </tr>\n",
       "    <tr>\n",
       "      <th>1264213</th>\n",
       "      <td>40143340</td>\n",
       "      <td>android android-studio</td>\n",
       "    </tr>\n",
       "    <tr>\n",
       "      <th>1264214</th>\n",
       "      <td>40143360</td>\n",
       "      <td>javascript vue.js</td>\n",
       "    </tr>\n",
       "    <tr>\n",
       "      <th>1264215</th>\n",
       "      <td>40143380</td>\n",
       "      <td>npm mocha babel</td>\n",
       "    </tr>\n",
       "  </tbody>\n",
       "</table>\n",
       "<p>1264216 rows × 2 columns</p>\n",
       "</div>"
      ],
      "text/plain": [
       "               Id                                             Tag\n",
       "0              80                         flex actionscript-3 air\n",
       "1              90    svn tortoisesvn branch branching-and-merging\n",
       "2             120                             sql asp.net sitemap\n",
       "3             180  algorithm language-agnostic colors color-space\n",
       "4             260         c# .net scripting compiler-construction\n",
       "...           ...                                             ...\n",
       "1264211  40143210                                   php .htaccess\n",
       "1264212  40143300                                 google-bigquery\n",
       "1264213  40143340                          android android-studio\n",
       "1264214  40143360                               javascript vue.js\n",
       "1264215  40143380                                 npm mocha babel\n",
       "\n",
       "[1264216 rows x 2 columns]"
      ]
     },
     "execution_count": 13,
     "metadata": {},
     "output_type": "execute_result"
    }
   ],
   "source": [
    "grouped_tags.reset_index()"
   ]
  },
  {
   "cell_type": "code",
   "execution_count": 14,
   "metadata": {
    "_uuid": "8da81a33552cd273c80e159e0c1cc8dddc98399c",
    "executionInfo": {
     "elapsed": 50,
     "status": "aborted",
     "timestamp": 1702429200743,
     "user": {
      "displayName": "Alexandria Perocho",
      "userId": "08190836204391597776"
     },
     "user_tz": 480
    },
    "id": "IWQNVi0Nql_v"
   },
   "outputs": [],
   "source": [
    "grouped_tags_final = pd.DataFrame({'Id':grouped_tags.index, 'Tags':grouped_tags.values})"
   ]
  },
  {
   "cell_type": "code",
   "execution_count": 15,
   "metadata": {
    "_uuid": "9968760c364a005b7de54bd908cfc612fc9defe8",
    "executionInfo": {
     "elapsed": 49,
     "status": "aborted",
     "timestamp": 1702429200743,
     "user": {
      "displayName": "Alexandria Perocho",
      "userId": "08190836204391597776"
     },
     "user_tz": 480
    },
    "id": "PPE_LdWVql_v"
   },
   "outputs": [
    {
     "data": {
      "text/html": [
       "<div>\n",
       "<style scoped>\n",
       "    .dataframe tbody tr th:only-of-type {\n",
       "        vertical-align: middle;\n",
       "    }\n",
       "\n",
       "    .dataframe tbody tr th {\n",
       "        vertical-align: top;\n",
       "    }\n",
       "\n",
       "    .dataframe thead th {\n",
       "        text-align: right;\n",
       "    }\n",
       "</style>\n",
       "<table border=\"1\" class=\"dataframe\">\n",
       "  <thead>\n",
       "    <tr style=\"text-align: right;\">\n",
       "      <th></th>\n",
       "      <th>Id</th>\n",
       "      <th>Tags</th>\n",
       "    </tr>\n",
       "  </thead>\n",
       "  <tbody>\n",
       "    <tr>\n",
       "      <th>0</th>\n",
       "      <td>80</td>\n",
       "      <td>flex actionscript-3 air</td>\n",
       "    </tr>\n",
       "    <tr>\n",
       "      <th>1</th>\n",
       "      <td>90</td>\n",
       "      <td>svn tortoisesvn branch branching-and-merging</td>\n",
       "    </tr>\n",
       "    <tr>\n",
       "      <th>2</th>\n",
       "      <td>120</td>\n",
       "      <td>sql asp.net sitemap</td>\n",
       "    </tr>\n",
       "    <tr>\n",
       "      <th>3</th>\n",
       "      <td>180</td>\n",
       "      <td>algorithm language-agnostic colors color-space</td>\n",
       "    </tr>\n",
       "    <tr>\n",
       "      <th>4</th>\n",
       "      <td>260</td>\n",
       "      <td>c# .net scripting compiler-construction</td>\n",
       "    </tr>\n",
       "  </tbody>\n",
       "</table>\n",
       "</div>"
      ],
      "text/plain": [
       "    Id                                            Tags\n",
       "0   80                         flex actionscript-3 air\n",
       "1   90    svn tortoisesvn branch branching-and-merging\n",
       "2  120                             sql asp.net sitemap\n",
       "3  180  algorithm language-agnostic colors color-space\n",
       "4  260         c# .net scripting compiler-construction"
      ]
     },
     "execution_count": 15,
     "metadata": {},
     "output_type": "execute_result"
    }
   ],
   "source": [
    "grouped_tags_final.head(5)"
   ]
  },
  {
   "cell_type": "code",
   "execution_count": 16,
   "metadata": {
    "_uuid": "2612dea031562d420f8dac14801d167721d2bcc9",
    "executionInfo": {
     "elapsed": 49,
     "status": "aborted",
     "timestamp": 1702429200743,
     "user": {
      "displayName": "Alexandria Perocho",
      "userId": "08190836204391597776"
     },
     "user_tz": 480
    },
    "id": "x8-mqxNXql_v"
   },
   "outputs": [],
   "source": [
    "df.drop(columns=['OwnerUserId', 'CreationDate', 'ClosedDate'], inplace=True)"
   ]
  },
  {
   "cell_type": "code",
   "execution_count": 17,
   "metadata": {
    "_uuid": "bd794a28df6e19818c754702ed5f3745262d866f",
    "executionInfo": {
     "elapsed": 50,
     "status": "aborted",
     "timestamp": 1702429200744,
     "user": {
      "displayName": "Alexandria Perocho",
      "userId": "08190836204391597776"
     },
     "user_tz": 480
    },
    "id": "kSOSxSMDql_v"
   },
   "outputs": [],
   "source": [
    "df = df.merge(grouped_tags_final, on='Id')"
   ]
  },
  {
   "cell_type": "code",
   "execution_count": 18,
   "metadata": {
    "_uuid": "132c4501747d2832eaf8d95f5d9cb3acaadc97f4",
    "executionInfo": {
     "elapsed": 50,
     "status": "aborted",
     "timestamp": 1702429200744,
     "user": {
      "displayName": "Alexandria Perocho",
      "userId": "08190836204391597776"
     },
     "user_tz": 480
    },
    "id": "o5gkG3Mnql_v",
    "scrolled": true
   },
   "outputs": [
    {
     "data": {
      "text/html": [
       "<div>\n",
       "<style scoped>\n",
       "    .dataframe tbody tr th:only-of-type {\n",
       "        vertical-align: middle;\n",
       "    }\n",
       "\n",
       "    .dataframe tbody tr th {\n",
       "        vertical-align: top;\n",
       "    }\n",
       "\n",
       "    .dataframe thead th {\n",
       "        text-align: right;\n",
       "    }\n",
       "</style>\n",
       "<table border=\"1\" class=\"dataframe\">\n",
       "  <thead>\n",
       "    <tr style=\"text-align: right;\">\n",
       "      <th></th>\n",
       "      <th>Id</th>\n",
       "      <th>Score</th>\n",
       "      <th>Title</th>\n",
       "      <th>Body</th>\n",
       "      <th>Tags</th>\n",
       "    </tr>\n",
       "  </thead>\n",
       "  <tbody>\n",
       "    <tr>\n",
       "      <th>0</th>\n",
       "      <td>80</td>\n",
       "      <td>26</td>\n",
       "      <td>SQLStatement.execute() - multiple queries in o...</td>\n",
       "      <td>&lt;p&gt;I've written a database generation script i...</td>\n",
       "      <td>flex actionscript-3 air</td>\n",
       "    </tr>\n",
       "    <tr>\n",
       "      <th>1</th>\n",
       "      <td>90</td>\n",
       "      <td>144</td>\n",
       "      <td>Good branching and merging tutorials for Torto...</td>\n",
       "      <td>&lt;p&gt;Are there any really good tutorials explain...</td>\n",
       "      <td>svn tortoisesvn branch branching-and-merging</td>\n",
       "    </tr>\n",
       "    <tr>\n",
       "      <th>2</th>\n",
       "      <td>120</td>\n",
       "      <td>21</td>\n",
       "      <td>ASP.NET Site Maps</td>\n",
       "      <td>&lt;p&gt;Has anyone got experience creating &lt;strong&gt;...</td>\n",
       "      <td>sql asp.net sitemap</td>\n",
       "    </tr>\n",
       "    <tr>\n",
       "      <th>3</th>\n",
       "      <td>180</td>\n",
       "      <td>53</td>\n",
       "      <td>Function for creating color wheels</td>\n",
       "      <td>&lt;p&gt;This is something I've pseudo-solved many t...</td>\n",
       "      <td>algorithm language-agnostic colors color-space</td>\n",
       "    </tr>\n",
       "    <tr>\n",
       "      <th>4</th>\n",
       "      <td>260</td>\n",
       "      <td>49</td>\n",
       "      <td>Adding scripting functionality to .NET applica...</td>\n",
       "      <td>&lt;p&gt;I have a little game written in C#. It uses...</td>\n",
       "      <td>c# .net scripting compiler-construction</td>\n",
       "    </tr>\n",
       "  </tbody>\n",
       "</table>\n",
       "</div>"
      ],
      "text/plain": [
       "    Id  Score                                              Title  \\\n",
       "0   80     26  SQLStatement.execute() - multiple queries in o...   \n",
       "1   90    144  Good branching and merging tutorials for Torto...   \n",
       "2  120     21                                  ASP.NET Site Maps   \n",
       "3  180     53                 Function for creating color wheels   \n",
       "4  260     49  Adding scripting functionality to .NET applica...   \n",
       "\n",
       "                                                Body  \\\n",
       "0  <p>I've written a database generation script i...   \n",
       "1  <p>Are there any really good tutorials explain...   \n",
       "2  <p>Has anyone got experience creating <strong>...   \n",
       "3  <p>This is something I've pseudo-solved many t...   \n",
       "4  <p>I have a little game written in C#. It uses...   \n",
       "\n",
       "                                             Tags  \n",
       "0                         flex actionscript-3 air  \n",
       "1    svn tortoisesvn branch branching-and-merging  \n",
       "2                             sql asp.net sitemap  \n",
       "3  algorithm language-agnostic colors color-space  \n",
       "4         c# .net scripting compiler-construction  "
      ]
     },
     "execution_count": 18,
     "metadata": {},
     "output_type": "execute_result"
    }
   ],
   "source": [
    "df.head(5)"
   ]
  },
  {
   "cell_type": "markdown",
   "metadata": {
    "_uuid": "df4a7b2e88af524f4bd778c223d580de76c57cf7",
    "id": "JpCHZ-Fmql_v"
   },
   "source": [
    "Now, we'll take only quesions with a score greater than 5. we're doing that for 2 reasons:\n",
    "* 1- we'll require less computational resources from kaggle.\n",
    "* 2- The posts will probably be with a better quality and will be better tagged since they have lots of upvotes.\n"
   ]
  },
  {
   "cell_type": "code",
   "execution_count": 19,
   "metadata": {
    "_uuid": "ecebe90606c70e84e4e87e1661e49a11c37e529f",
    "executionInfo": {
     "elapsed": 50,
     "status": "aborted",
     "timestamp": 1702429200744,
     "user": {
      "displayName": "Alexandria Perocho",
      "userId": "08190836204391597776"
     },
     "user_tz": 480
    },
    "id": "jyqQtjzTql_v"
   },
   "outputs": [],
   "source": [
    "new_df = df[df['Score']>5]"
   ]
  },
  {
   "cell_type": "markdown",
   "metadata": {
    "_uuid": "e462e56ec2d84a0f3810d53bee3715cb570907f1",
    "id": "_BFUVl2Vql_v"
   },
   "source": [
    "**1.2 Cleaning Data**"
   ]
  },
  {
   "cell_type": "code",
   "execution_count": 20,
   "metadata": {
    "_uuid": "2f966f3733dfc5668fd20af7850302c8c2bbdbf7",
    "executionInfo": {
     "elapsed": 50,
     "status": "aborted",
     "timestamp": 1702429200744,
     "user": {
      "displayName": "Alexandria Perocho",
      "userId": "08190836204391597776"
     },
     "user_tz": 480
    },
    "id": "SHrEvaZ5ql_v"
   },
   "outputs": [
    {
     "data": {
      "text/plain": [
       "Text(0.5, 1.0, 'Ratio of missing values per columns')"
      ]
     },
     "execution_count": 20,
     "metadata": {},
     "output_type": "execute_result"
    },
    {
     "data": {
      "image/png": "[encoded data removed]",
      "text/plain": [
       "<Figure size 360x360 with 1 Axes>"
      ]
     },
     "metadata": {
      "needs_background": "light"
     },
     "output_type": "display_data"
    }
   ],
   "source": [
    "plt.figure(figsize=(5, 5))\n",
    "new_df.isnull().mean(axis=0).plot.barh()\n",
    "plt.title(\"Ratio of missing values per columns\")"
   ]
  },
  {
   "cell_type": "code",
   "execution_count": 21,
   "metadata": {
    "_uuid": "1550d62d082219a8c8564f8a95afb121d9096c67",
    "executionInfo": {
     "elapsed": 50,
     "status": "aborted",
     "timestamp": 1702429200744,
     "user": {
      "displayName": "Alexandria Perocho",
      "userId": "08190836204391597776"
     },
     "user_tz": 480
    },
    "id": "aH0qahjDql_w",
    "scrolled": true
   },
   "outputs": [
    {
     "name": "stdout",
     "output_type": "stream",
     "text": [
      "Dupplicate entries: 0\n"
     ]
    }
   ],
   "source": [
    "print('Dupplicate entries: {}'.format(new_df.duplicated().sum()))\n",
    "new_df.drop_duplicates(inplace = True)"
   ]
  },
  {
   "cell_type": "markdown",
   "metadata": {
    "_uuid": "097a6864ce893217365a3dca22bb68b442746740",
    "id": "_JxMFD17ql_w"
   },
   "source": [
    "This is a very good dataset since there are no missing values or dupplicate values."
   ]
  },
  {
   "cell_type": "code",
   "execution_count": 22,
   "metadata": {
    "_uuid": "6ed21b85891cb57be8273aa41443e6c8198c0d0c",
    "executionInfo": {
     "elapsed": 50,
     "status": "aborted",
     "timestamp": 1702429200744,
     "user": {
      "displayName": "Alexandria Perocho",
      "userId": "08190836204391597776"
     },
     "user_tz": 480
    },
    "id": "lpLO_mL_ql_w"
   },
   "outputs": [],
   "source": [
    "new_df.drop(columns=['Id', 'Score'], inplace=True)"
   ]
  },
  {
   "cell_type": "markdown",
   "metadata": {
    "_uuid": "4c6033e87a6ca08eeca49f64b8ca1bf6a9a2d11b",
    "id": "MtmXPFHEql_w"
   },
   "source": [
    "Now we only need 3 columns: Body, Title and Tags."
   ]
  },
  {
   "cell_type": "markdown",
   "metadata": {
    "_uuid": "d3a6dc67414c2faf61fc32adf821d5d6c5a00e4e",
    "id": "TuximY_eql_w"
   },
   "source": [
    "**1.2.1 Tags**"
   ]
  },
  {
   "cell_type": "markdown",
   "metadata": {
    "_uuid": "7d52b54ca515eb7ef5a9545b9f722090abc4c683",
    "id": "LktARRHuql_w"
   },
   "source": [
    "Let's do some cleaning on the tags' column. Furthermore, we decided to keep the 100 most popular tags because it'll be easier to predict the right tag from 100 words than from 14,000 and because we want to keep macro tags and not be too specific since it's only a recommendation for a post, the user can add more specific tags himself."
   ]
  },
  {
   "cell_type": "code",
   "execution_count": 23,
   "metadata": {
    "_uuid": "f52f8b1079382f88516dd1df91aeaebe6d4f1dc4",
    "executionInfo": {
     "elapsed": 50,
     "status": "aborted",
     "timestamp": 1702429200744,
     "user": {
      "displayName": "Alexandria Perocho",
      "userId": "08190836204391597776"
     },
     "user_tz": 480
    },
    "id": "9A0PR1Ylql_x"
   },
   "outputs": [
    {
     "data": {
      "text/html": [
       "<div>\n",
       "<style scoped>\n",
       "    .dataframe tbody tr th:only-of-type {\n",
       "        vertical-align: middle;\n",
       "    }\n",
       "\n",
       "    .dataframe tbody tr th {\n",
       "        vertical-align: top;\n",
       "    }\n",
       "\n",
       "    .dataframe thead th {\n",
       "        text-align: right;\n",
       "    }\n",
       "</style>\n",
       "<table border=\"1\" class=\"dataframe\">\n",
       "  <thead>\n",
       "    <tr style=\"text-align: right;\">\n",
       "      <th></th>\n",
       "      <th>Title</th>\n",
       "      <th>Body</th>\n",
       "      <th>Tags</th>\n",
       "    </tr>\n",
       "  </thead>\n",
       "  <tbody>\n",
       "    <tr>\n",
       "      <th>0</th>\n",
       "      <td>SQLStatement.execute() - multiple queries in o...</td>\n",
       "      <td>&lt;p&gt;I've written a database generation script i...</td>\n",
       "      <td>flex actionscript-3 air</td>\n",
       "    </tr>\n",
       "    <tr>\n",
       "      <th>1</th>\n",
       "      <td>Good branching and merging tutorials for Torto...</td>\n",
       "      <td>&lt;p&gt;Are there any really good tutorials explain...</td>\n",
       "      <td>svn tortoisesvn branch branching-and-merging</td>\n",
       "    </tr>\n",
       "    <tr>\n",
       "      <th>2</th>\n",
       "      <td>ASP.NET Site Maps</td>\n",
       "      <td>&lt;p&gt;Has anyone got experience creating &lt;strong&gt;...</td>\n",
       "      <td>sql asp.net sitemap</td>\n",
       "    </tr>\n",
       "    <tr>\n",
       "      <th>3</th>\n",
       "      <td>Function for creating color wheels</td>\n",
       "      <td>&lt;p&gt;This is something I've pseudo-solved many t...</td>\n",
       "      <td>algorithm language-agnostic colors color-space</td>\n",
       "    </tr>\n",
       "    <tr>\n",
       "      <th>4</th>\n",
       "      <td>Adding scripting functionality to .NET applica...</td>\n",
       "      <td>&lt;p&gt;I have a little game written in C#. It uses...</td>\n",
       "      <td>c# .net scripting compiler-construction</td>\n",
       "    </tr>\n",
       "  </tbody>\n",
       "</table>\n",
       "</div>"
      ],
      "text/plain": [
       "                                               Title  \\\n",
       "0  SQLStatement.execute() - multiple queries in o...   \n",
       "1  Good branching and merging tutorials for Torto...   \n",
       "2                                  ASP.NET Site Maps   \n",
       "3                 Function for creating color wheels   \n",
       "4  Adding scripting functionality to .NET applica...   \n",
       "\n",
       "                                                Body  \\\n",
       "0  <p>I've written a database generation script i...   \n",
       "1  <p>Are there any really good tutorials explain...   \n",
       "2  <p>Has anyone got experience creating <strong>...   \n",
       "3  <p>This is something I've pseudo-solved many t...   \n",
       "4  <p>I have a little game written in C#. It uses...   \n",
       "\n",
       "                                             Tags  \n",
       "0                         flex actionscript-3 air  \n",
       "1    svn tortoisesvn branch branching-and-merging  \n",
       "2                             sql asp.net sitemap  \n",
       "3  algorithm language-agnostic colors color-space  \n",
       "4         c# .net scripting compiler-construction  "
      ]
     },
     "execution_count": 23,
     "metadata": {},
     "output_type": "execute_result"
    }
   ],
   "source": [
    "new_df.head(5)"
   ]
  },
  {
   "cell_type": "code",
   "execution_count": 24,
   "metadata": {
    "_kg_hide-output": true,
    "_uuid": "d112c6cca7ac7b8fecfafdecfe3c75820a8b6f8c",
    "executionInfo": {
     "elapsed": 51,
     "status": "aborted",
     "timestamp": 1702429200745,
     "user": {
      "displayName": "Alexandria Perocho",
      "userId": "08190836204391597776"
     },
     "user_tz": 480
    },
    "id": "HQCorV1Dql_x"
   },
   "outputs": [],
   "source": [
    "new_df['Tags'] = new_df['Tags'].apply(lambda x: x.split())"
   ]
  },
  {
   "cell_type": "code",
   "execution_count": 25,
   "metadata": {
    "_uuid": "84505cde455a6d528b08e72688caa6c092893388",
    "executionInfo": {
     "elapsed": 50,
     "status": "aborted",
     "timestamp": 1702429200745,
     "user": {
      "displayName": "Alexandria Perocho",
      "userId": "08190836204391597776"
     },
     "user_tz": 480
    },
    "id": "nrMaaIiSql_x"
   },
   "outputs": [],
   "source": [
    "all_tags = [item for sublist in new_df['Tags'].values for item in sublist]"
   ]
  },
  {
   "cell_type": "code",
   "execution_count": 26,
   "metadata": {
    "_uuid": "79be7667451d41ac7cd9ef52b7edae19a8c9e846",
    "executionInfo": {
     "elapsed": 50,
     "status": "aborted",
     "timestamp": 1702429200745,
     "user": {
      "displayName": "Alexandria Perocho",
      "userId": "08190836204391597776"
     },
     "user_tz": 480
    },
    "id": "sjz_MlKQql_x"
   },
   "outputs": [
    {
     "data": {
      "text/plain": [
       "224129"
      ]
     },
     "execution_count": 26,
     "metadata": {},
     "output_type": "execute_result"
    }
   ],
   "source": [
    "len(all_tags)"
   ]
  },
  {
   "cell_type": "code",
   "execution_count": 27,
   "metadata": {
    "_uuid": "0a7e3c76664f2bbcbab52d1ecbf445e8451d877d",
    "executionInfo": {
     "elapsed": 50,
     "status": "aborted",
     "timestamp": 1702429200745,
     "user": {
      "displayName": "Alexandria Perocho",
      "userId": "08190836204391597776"
     },
     "user_tz": 480
    },
    "id": "TMvivo6sql_x"
   },
   "outputs": [
    {
     "data": {
      "text/plain": [
       "14883"
      ]
     },
     "execution_count": 27,
     "metadata": {},
     "output_type": "execute_result"
    }
   ],
   "source": [
    "my_set = set(all_tags)\n",
    "unique_tags = list(my_set)\n",
    "len(unique_tags)"
   ]
  },
  {
   "cell_type": "code",
   "execution_count": 28,
   "metadata": {
    "_uuid": "56cecaeb6a313c81202a08fbcca65e33da95b3be",
    "executionInfo": {
     "elapsed": 50,
     "status": "aborted",
     "timestamp": 1702429200745,
     "user": {
      "displayName": "Alexandria Perocho",
      "userId": "08190836204391597776"
     },
     "user_tz": 480
    },
    "id": "WqDGxzU6ql_5"
   },
   "outputs": [],
   "source": [
    "flat_list = [item for sublist in new_df['Tags'].values for item in sublist]\n",
    "\n",
    "keywords = nltk.FreqDist(flat_list)\n",
    "\n",
    "keywords = nltk.FreqDist(keywords)\n",
    "\n",
    "frequencies_words = keywords.most_common(100)\n",
    "tags_features = [word[0] for word in frequencies_words]"
   ]
  },
  {
   "cell_type": "code",
   "execution_count": 29,
   "metadata": {
    "_uuid": "a97a5e5d2e1031394382558d4dc3b54530400005",
    "executionInfo": {
     "elapsed": 50,
     "status": "aborted",
     "timestamp": 1702429200745,
     "user": {
      "displayName": "Alexandria Perocho",
      "userId": "08190836204391597776"
     },
     "user_tz": 480
    },
    "id": "f8GhmitUql_5"
   },
   "outputs": [
    {
     "data": {
      "text/plain": [
       "['c#',\n",
       " 'java',\n",
       " 'javascript',\n",
       " 'android',\n",
       " 'python',\n",
       " 'c++',\n",
       " 'php',\n",
       " 'jquery',\n",
       " '.net',\n",
       " 'ios',\n",
       " 'html',\n",
       " 'css',\n",
       " 'c',\n",
       " 'iphone',\n",
       " 'objective-c',\n",
       " 'ruby-on-rails',\n",
       " 'sql',\n",
       " 'asp.net',\n",
       " 'mysql',\n",
       " 'ruby',\n",
       " 'r',\n",
       " 'git',\n",
       " 'asp.net-mvc',\n",
       " 'linux',\n",
       " 'sql-server',\n",
       " 'node.js',\n",
       " 'angularjs',\n",
       " 'django',\n",
       " 'performance',\n",
       " 'algorithm',\n",
       " 'string',\n",
       " 'xcode',\n",
       " 'arrays',\n",
       " 'wpf',\n",
       " 'eclipse',\n",
       " 'haskell',\n",
       " 'windows',\n",
       " 'scala',\n",
       " 'multithreading',\n",
       " 'json',\n",
       " 'c++11',\n",
       " 'regex',\n",
       " 'visual-studio',\n",
       " 'html5',\n",
       " 'osx',\n",
       " 'swift',\n",
       " 'database',\n",
       " 'unit-testing',\n",
       " 'spring',\n",
       " 'xml',\n",
       " 'bash',\n",
       " 'ajax',\n",
       " 'delphi',\n",
       " 'cocoa-touch',\n",
       " 'ruby-on-rails-3',\n",
       " 'visual-studio-2010',\n",
       " 'linq',\n",
       " 'debugging',\n",
       " 'generics',\n",
       " 'perl',\n",
       " 'entity-framework',\n",
       " 'mongodb',\n",
       " 'winforms',\n",
       " 'cocoa',\n",
       " 'security',\n",
       " 'postgresql',\n",
       " 'css3',\n",
       " 'templates',\n",
       " 'twitter-bootstrap',\n",
       " 'shell',\n",
       " 'list',\n",
       " 'google-chrome',\n",
       " 'vim',\n",
       " 'oop',\n",
       " 'image',\n",
       " 'hibernate',\n",
       " 'gcc',\n",
       " 'asp.net-mvc-3',\n",
       " 'facebook',\n",
       " 'oracle',\n",
       " 'rest',\n",
       " 'maven',\n",
       " 'http',\n",
       " 'exception',\n",
       " 'tsql',\n",
       " 'math',\n",
       " 'numpy',\n",
       " 'svn',\n",
       " 'qt',\n",
       " 'ipad',\n",
       " 'function',\n",
       " 'datetime',\n",
       " 'wcf',\n",
       " 'emacs',\n",
       " 'design-patterns',\n",
       " 'github',\n",
       " 'class',\n",
       " 'api',\n",
       " 'optimization',\n",
       " 'swing']"
      ]
     },
     "execution_count": 29,
     "metadata": {},
     "output_type": "execute_result"
    }
   ],
   "source": [
    "tags_features"
   ]
  },
  {
   "cell_type": "code",
   "execution_count": 30,
   "metadata": {
    "_uuid": "e4a1cb0882531f0de6aef354e468cd0711bbb432",
    "executionInfo": {
     "elapsed": 50,
     "status": "aborted",
     "timestamp": 1702429200745,
     "user": {
      "displayName": "Alexandria Perocho",
      "userId": "08190836204391597776"
     },
     "user_tz": 480
    },
    "id": "qfZNUdLCql_5"
   },
   "outputs": [
    {
     "data": {
      "image/png": "[encoded data removed]",
      "text/plain": [
       "<Figure size 1080x720 with 1 Axes>"
      ]
     },
     "metadata": {
      "needs_background": "light"
     },
     "output_type": "display_data"
    },
    {
     "data": {
      "text/plain": [
       "<Axes: xlabel='Samples', ylabel='Counts'>"
      ]
     },
     "execution_count": 30,
     "metadata": {},
     "output_type": "execute_result"
    }
   ],
   "source": [
    "fig, ax = plt.subplots(figsize=(15, 10))\n",
    "keywords.plot(100, cumulative=False)"
   ]
  },
  {
   "cell_type": "code",
   "execution_count": 31,
   "metadata": {
    "_uuid": "3dabce5e92dc9314e7042384add46fc2c31f3112",
    "executionInfo": {
     "elapsed": 50,
     "status": "aborted",
     "timestamp": 1702429200745,
     "user": {
      "displayName": "Alexandria Perocho",
      "userId": "08190836204391597776"
     },
     "user_tz": 480
    },
    "id": "gCUiRx1_ql_6"
   },
   "outputs": [],
   "source": [
    "def most_common(tags):\n",
    "    tags_filtered = []\n",
    "    for i in range(0, len(tags)):\n",
    "        if tags[i] in tags_features:\n",
    "            tags_filtered.append(tags[i])\n",
    "    return tags_filtered"
   ]
  },
  {
   "cell_type": "code",
   "execution_count": 32,
   "metadata": {
    "_uuid": "e1b1f8eefaf9b94b5bffdbd295b5770fae7b2984",
    "executionInfo": {
     "elapsed": 50,
     "status": "aborted",
     "timestamp": 1702429200745,
     "user": {
      "displayName": "Alexandria Perocho",
      "userId": "08190836204391597776"
     },
     "user_tz": 480
    },
    "id": "lWP3hVMcql_6"
   },
   "outputs": [],
   "source": [
    "new_df['Tags'] = new_df['Tags'].apply(lambda x: most_common(x))\n",
    "new_df['Tags'] = new_df['Tags'].apply(lambda x: x if len(x)>0 else None)"
   ]
  },
  {
   "cell_type": "code",
   "execution_count": 33,
   "metadata": {
    "_uuid": "be6aae9b05c9d212cb26adb487df1476e6040c48",
    "executionInfo": {
     "elapsed": 50,
     "status": "aborted",
     "timestamp": 1702429200745,
     "user": {
      "displayName": "Alexandria Perocho",
      "userId": "08190836204391597776"
     },
     "user_tz": 480
    },
    "id": "JJHIMDKEql_6"
   },
   "outputs": [
    {
     "data": {
      "text/plain": [
       "(72950, 3)"
      ]
     },
     "execution_count": 33,
     "metadata": {},
     "output_type": "execute_result"
    }
   ],
   "source": [
    "new_df.shape"
   ]
  },
  {
   "cell_type": "code",
   "execution_count": 34,
   "metadata": {
    "_uuid": "1f9ffd9e9e0dfe7c2e4c595e31559e2f5ec513f4",
    "executionInfo": {
     "elapsed": 50,
     "status": "aborted",
     "timestamp": 1702429200745,
     "user": {
      "displayName": "Alexandria Perocho",
      "userId": "08190836204391597776"
     },
     "user_tz": 480
    },
    "id": "qmyCleL5ql_6"
   },
   "outputs": [],
   "source": [
    "new_df.dropna(subset=['Tags'], inplace=True)"
   ]
  },
  {
   "cell_type": "code",
   "execution_count": 35,
   "metadata": {
    "_uuid": "608e36814e0b2befb41bb9dc6eca073edf48fbe4",
    "executionInfo": {
     "elapsed": 51,
     "status": "aborted",
     "timestamp": 1702429200746,
     "user": {
      "displayName": "Alexandria Perocho",
      "userId": "08190836204391597776"
     },
     "user_tz": 480
    },
    "id": "YxQFyjKUql_6"
   },
   "outputs": [
    {
     "data": {
      "text/plain": [
       "(63167, 3)"
      ]
     },
     "execution_count": 35,
     "metadata": {},
     "output_type": "execute_result"
    }
   ],
   "source": [
    "new_df.shape"
   ]
  },
  {
   "cell_type": "markdown",
   "metadata": {
    "_uuid": "8864db3bccbe04abb7656fa580fbbb87b0528c43",
    "id": "jHCr2LP-ql_6"
   },
   "source": [
    "We are here loosing 10000 rows but it's for the greater good."
   ]
  },
  {
   "cell_type": "markdown",
   "metadata": {
    "_uuid": "0240dc179aeabfdd8bbd6638d0e1b3ae5cb56877",
    "id": "J34HyrJLql_7"
   },
   "source": [
    "**1.2.2 Body**"
   ]
  },
  {
   "cell_type": "markdown",
   "metadata": {
    "_uuid": "598869f86fd4f9a6fe1e41f9acce43d392cb50aa",
    "id": "VA-yXU-qql_7"
   },
   "source": [
    "In the next two columns: Body and Title, we'll use lots of text processing:\n",
    "* Removing html format\n",
    "* Lowering text\n",
    "* Transforming abbreviations\n",
    "* Removing punctuation (but keeping words like c# since it's the most popular tag)\n",
    "* Lemmatizing words\n",
    "* Removing stop words"
   ]
  },
  {
   "cell_type": "code",
   "execution_count": 36,
   "metadata": {
    "_uuid": "e1b8ccc185a38ec08ee74deecd749b187053e444",
    "executionInfo": {
     "elapsed": 50,
     "status": "aborted",
     "timestamp": 1702429200746,
     "user": {
      "displayName": "Alexandria Perocho",
      "userId": "08190836204391597776"
     },
     "user_tz": 480
    },
    "id": "FzVVieArql_7"
   },
   "outputs": [],
   "source": [
    "# Converting html to text in the body\n",
    "\n",
    "new_df['Body'] = new_df['Body'].apply(lambda x: BeautifulSoup(x).get_text())"
   ]
  },
  {
   "cell_type": "code",
   "execution_count": 37,
   "metadata": {
    "_uuid": "b25cd0dd5fd7bc22eaa629bdabfa9ce882661f85",
    "executionInfo": {
     "elapsed": 50,
     "status": "aborted",
     "timestamp": 1702429200746,
     "user": {
      "displayName": "Alexandria Perocho",
      "userId": "08190836204391597776"
     },
     "user_tz": 480
    },
    "id": "xgOGFuZ6ql_7"
   },
   "outputs": [],
   "source": [
    "def clean_text(text):\n",
    "    text = text.lower()\n",
    "    text = re.sub(r\"what's\", \"what is \", text)\n",
    "    text = re.sub(r\"\\'s\", \" \", text)\n",
    "    text = re.sub(r\"\\'ve\", \" have \", text)\n",
    "    text = re.sub(r\"can't\", \"can not \", text)\n",
    "    text = re.sub(r\"n't\", \" not \", text)\n",
    "    text = re.sub(r\"i'm\", \"i am \", text)\n",
    "    text = re.sub(r\"\\'re\", \" are \", text)\n",
    "    text = re.sub(r\"\\'d\", \" would \", text)\n",
    "    text = re.sub(r\"\\'ll\", \" will \", text)\n",
    "    text = re.sub(r\"\\'scuse\", \" excuse \", text)\n",
    "    text = re.sub(r\"\\'\\n\", \" \", text)\n",
    "    text = re.sub(r\"\\'\\xa0\", \" \", text)\n",
    "    text = re.sub('\\s+', ' ', text)\n",
    "    text = text.strip(' ')\n",
    "    return text"
   ]
  },
  {
   "cell_type": "code",
   "execution_count": 38,
   "metadata": {
    "_uuid": "d39a9d9c3221288d7d72076070219cb861ad399e",
    "executionInfo": {
     "elapsed": 50,
     "status": "aborted",
     "timestamp": 1702429200746,
     "user": {
      "displayName": "Alexandria Perocho",
      "userId": "08190836204391597776"
     },
     "user_tz": 480
    },
    "id": "8zEQT1y-ql_7"
   },
   "outputs": [],
   "source": [
    "new_df['Body'] = new_df['Body'].apply(lambda x: clean_text(x))"
   ]
  },
  {
   "cell_type": "code",
   "execution_count": 39,
   "metadata": {
    "_uuid": "e2b3cfc4fbb0482324dc1937d8411feb5334f7d2",
    "executionInfo": {
     "elapsed": 51,
     "status": "aborted",
     "timestamp": 1702429200747,
     "user": {
      "displayName": "Alexandria Perocho",
      "userId": "08190836204391597776"
     },
     "user_tz": 480
    },
    "id": "XEsgQnHoql_7"
   },
   "outputs": [],
   "source": [
    "token=ToktokTokenizer()"
   ]
  },
  {
   "cell_type": "code",
   "execution_count": 40,
   "metadata": {
    "_uuid": "e96435d0bb6d758f5868ae7cf1561e28293b21e0",
    "executionInfo": {
     "elapsed": 1243,
     "status": "aborted",
     "timestamp": 1702429200747,
     "user": {
      "displayName": "Alexandria Perocho",
      "userId": "08190836204391597776"
     },
     "user_tz": 480
    },
    "id": "cZ0VPgDDql_8"
   },
   "outputs": [
    {
     "data": {
      "text/plain": [
       "'!\"#$%&\\'()*+,-./:;<=>?@[\\\\]^_`{|}~'"
      ]
     },
     "execution_count": 40,
     "metadata": {},
     "output_type": "execute_result"
    }
   ],
   "source": [
    "punctuation"
   ]
  },
  {
   "cell_type": "code",
   "execution_count": 41,
   "metadata": {
    "_uuid": "52c525eabf07b51a54af954f4adc7404febdf27e",
    "executionInfo": {
     "elapsed": 1241,
     "status": "aborted",
     "timestamp": 1702429200747,
     "user": {
      "displayName": "Alexandria Perocho",
      "userId": "08190836204391597776"
     },
     "user_tz": 480
    },
    "id": "ewifi29Zql_8"
   },
   "outputs": [],
   "source": [
    "punct = '!\"#$%&\\'()*+,./:;<=>?@[\\\\]^_`{|}~'"
   ]
  },
  {
   "cell_type": "code",
   "execution_count": 42,
   "metadata": {
    "_uuid": "7681b82ec0d4e8fb87fc7c2a2d7e90f00184bdb7",
    "executionInfo": {
     "elapsed": 1239,
     "status": "aborted",
     "timestamp": 1702429200747,
     "user": {
      "displayName": "Alexandria Perocho",
      "userId": "08190836204391597776"
     },
     "user_tz": 480
    },
    "id": "AEZlWMIYql_8"
   },
   "outputs": [],
   "source": [
    "def strip_list_noempty(mylist):\n",
    "    newlist = (item.strip() if hasattr(item, 'strip') else item for item in mylist)\n",
    "    return [item for item in newlist if item != '']"
   ]
  },
  {
   "cell_type": "code",
   "execution_count": 43,
   "metadata": {
    "_uuid": "e8d4bb83559025f06a5bae00aa511f5985bb56bd",
    "executionInfo": {
     "elapsed": 1238,
     "status": "aborted",
     "timestamp": 1702429200748,
     "user": {
      "displayName": "Alexandria Perocho",
      "userId": "08190836204391597776"
     },
     "user_tz": 480
    },
    "id": "e7ONATDTql_8"
   },
   "outputs": [],
   "source": [
    "def clean_punct(text):\n",
    "    words=token.tokenize(text)\n",
    "    punctuation_filtered = []\n",
    "    regex = re.compile('[%s]' % re.escape(punct))\n",
    "    remove_punctuation = str.maketrans(' ', ' ', punct)\n",
    "    for w in words:\n",
    "        if w in tags_features:\n",
    "            punctuation_filtered.append(w)\n",
    "        else:\n",
    "            punctuation_filtered.append(regex.sub('', w))\n",
    "\n",
    "    filtered_list = strip_list_noempty(punctuation_filtered)\n",
    "\n",
    "    return ' '.join(map(str, filtered_list))"
   ]
  },
  {
   "cell_type": "code",
   "execution_count": 44,
   "metadata": {
    "_uuid": "997064cd595544af307751a19ac0680a392a79a4",
    "executionInfo": {
     "elapsed": 1236,
     "status": "aborted",
     "timestamp": 1702429200748,
     "user": {
      "displayName": "Alexandria Perocho",
      "userId": "08190836204391597776"
     },
     "user_tz": 480
    },
    "id": "0p9vx1KSql_8"
   },
   "outputs": [],
   "source": [
    "new_df['Body'] = new_df['Body'].apply(lambda x: clean_punct(x))"
   ]
  },
  {
   "cell_type": "code",
   "execution_count": 45,
   "metadata": {
    "_uuid": "c32de0e6fb753123485706a2655a68260de9741a",
    "executionInfo": {
     "elapsed": 1235,
     "status": "aborted",
     "timestamp": 1702429200748,
     "user": {
      "displayName": "Alexandria Perocho",
      "userId": "08190836204391597776"
     },
     "user_tz": 480
    },
    "id": "TwUg1aWoql_9"
   },
   "outputs": [
    {
     "data": {
      "text/plain": [
       "'has anyone got experience creating sql-based asp.net site-map providers i have got the default xml file websitemap working properly with my menu and sitemappath controls but i will need a way for the users of my site to create and modify pages dynamically i need to tie page viewing permissions into the standard asp.net membership system as well'"
      ]
     },
     "execution_count": 45,
     "metadata": {},
     "output_type": "execute_result"
    }
   ],
   "source": [
    "new_df['Body'][2]"
   ]
  },
  {
   "cell_type": "code",
   "execution_count": 46,
   "metadata": {
    "_uuid": "b18fd3ceb79801c3737758607e39ff6881dc1f0b",
    "executionInfo": {
     "elapsed": 1234,
     "status": "aborted",
     "timestamp": 1702429200749,
     "user": {
      "displayName": "Alexandria Perocho",
      "userId": "08190836204391597776"
     },
     "user_tz": 480
    },
    "id": "FEQPVE3mql_9"
   },
   "outputs": [],
   "source": [
    "lemma=WordNetLemmatizer()\n",
    "stop_words = set(stopwords.words(\"english\"))"
   ]
  },
  {
   "cell_type": "code",
   "execution_count": 51,
   "metadata": {
    "_uuid": "7adfb53ebffef9af3068171d4f4e8e7b4b959527",
    "executionInfo": {
     "elapsed": 1233,
     "status": "aborted",
     "timestamp": 1702429200749,
     "user": {
      "displayName": "Alexandria Perocho",
      "userId": "08190836204391597776"
     },
     "user_tz": 480
    },
    "id": "XdVbBOExql_9"
   },
   "outputs": [],
   "source": [
    "def lemitizeWords(text):\n",
    "    words=token.tokenize(text)\n",
    "    listLemma=[]\n",
    "    for w in words:\n",
    "        x=lemma.lemmatize(w, pos=\"v\")\n",
    "        listLemma.append(x)\n",
    "    return ' '.join(map(str, listLemma))\n",
    "\n",
    "def stopWordsRemove(text):\n",
    "\n",
    "    stop_words = set(stopwords.words(\"english\"))\n",
    "\n",
    "    words=token.tokenize(text)\n",
    "\n",
    "    filtered = [w for w in words if not w in stop_words]\n",
    "\n",
    "    return ' '.join(map(str, filtered))"
   ]
  },
  {
   "cell_type": "code",
   "execution_count": 54,
   "metadata": {},
   "outputs": [
    {
     "name": "stderr",
     "output_type": "stream",
     "text": [
      "[nltk_data] Downloading package omw-1.4 to\n",
      "[nltk_data]     C:\\Users\\17786\\AppData\\Roaming\\nltk_data...\n"
     ]
    },
    {
     "data": {
      "text/plain": [
       "True"
      ]
     },
     "execution_count": 54,
     "metadata": {},
     "output_type": "execute_result"
    }
   ],
   "source": [
    "#import nltk\n",
    "#nltk.download('omw-1.4')"
   ]
  },
  {
   "cell_type": "code",
   "execution_count": 55,
   "metadata": {
    "_uuid": "32e75ae4b01dcafb295fceb59a1f973b1d5d4b86",
    "executionInfo": {
     "elapsed": 1231,
     "status": "aborted",
     "timestamp": 1702429200749,
     "user": {
      "displayName": "Alexandria Perocho",
      "userId": "08190836204391597776"
     },
     "user_tz": 480
    },
    "id": "e7dYqZdbql_9"
   },
   "outputs": [],
   "source": [
    "new_df['Body'] = new_df['Body'].apply(lambda x: lemitizeWords(x))\n",
    "new_df['Body'] = new_df['Body'].apply(lambda x: stopWordsRemove(x))"
   ]
  },
  {
   "cell_type": "markdown",
   "metadata": {
    "_uuid": "8ae7426282e33a923238b13dddf083700bfaa360",
    "id": "Fp4C2vc3ql_-"
   },
   "source": [
    "**1.2.3 Title**"
   ]
  },
  {
   "cell_type": "code",
   "execution_count": 56,
   "metadata": {
    "_uuid": "5151ce53b67e2a7a94565e28171d4dded9f3c390",
    "executionInfo": {
     "elapsed": 1229,
     "status": "aborted",
     "timestamp": 1702429200749,
     "user": {
      "displayName": "Alexandria Perocho",
      "userId": "08190836204391597776"
     },
     "user_tz": 480
    },
    "id": "gWVKo_VKql_-"
   },
   "outputs": [],
   "source": [
    "new_df['Title'] = new_df['Title'].apply(lambda x: str(x))\n",
    "new_df['Title'] = new_df['Title'].apply(lambda x: clean_text(x))\n",
    "new_df['Title'] = new_df['Title'].apply(lambda x: clean_punct(x))\n",
    "new_df['Title'] = new_df['Title'].apply(lambda x: lemitizeWords(x))\n",
    "new_df['Title'] = new_df['Title'].apply(lambda x: stopWordsRemove(x))"
   ]
  },
  {
   "cell_type": "markdown",
   "metadata": {
    "_uuid": "fe90f28a386d20375d1ec8c40dec91684802142e",
    "id": "3na7ej4Mql_-"
   },
   "source": [
    "**1.3 EDA**"
   ]
  },
  {
   "cell_type": "markdown",
   "metadata": {
    "_uuid": "7103674c5e35809eb0b89c0fa86bdb1ec2f76af9",
    "id": "sU5UJp-zql_-"
   },
   "source": [
    "Here we'll just use some LDA to see if shows any paterns in words and the main topics.  "
   ]
  },
  {
   "cell_type": "code",
   "execution_count": 57,
   "metadata": {
    "_uuid": "14aee1be48cf9da95ba0b6f4425ba99a13713d40",
    "executionInfo": {
     "elapsed": 1227,
     "status": "aborted",
     "timestamp": 1702429200749,
     "user": {
      "displayName": "Alexandria Perocho",
      "userId": "08190836204391597776"
     },
     "user_tz": 480
    },
    "id": "SK7B4Ex6ql_-"
   },
   "outputs": [],
   "source": [
    "no_topics = 20"
   ]
  },
  {
   "cell_type": "code",
   "execution_count": 58,
   "metadata": {
    "_uuid": "bdba110b6091d86d5af652c2c54caf688690e82f",
    "executionInfo": {
     "elapsed": 1225,
     "status": "aborted",
     "timestamp": 1702429200749,
     "user": {
      "displayName": "Alexandria Perocho",
      "userId": "08190836204391597776"
     },
     "user_tz": 480
    },
    "id": "DVzAAb5Eql__"
   },
   "outputs": [],
   "source": [
    "text = new_df['Body']"
   ]
  },
  {
   "cell_type": "code",
   "execution_count": 59,
   "metadata": {
    "_uuid": "42b4c014172c9e2b55705d5e80f7e0a0d5d0424f",
    "executionInfo": {
     "elapsed": 1223,
     "status": "aborted",
     "timestamp": 1702429200749,
     "user": {
      "displayName": "Alexandria Perocho",
      "userId": "08190836204391597776"
     },
     "user_tz": 480
    },
    "id": "3rhGeRZ8ql__"
   },
   "outputs": [],
   "source": [
    "vectorizer_train = TfidfVectorizer(analyzer = 'word',\n",
    "                                       min_df=0.0,\n",
    "                                       max_df = 1.0,\n",
    "                                       strip_accents = None,\n",
    "                                       encoding = 'utf-8',\n",
    "                                       preprocessor=None,\n",
    "                                       token_pattern=r\"(?u)\\S\\S+\", # Need to repeat token pattern\n",
    "                                       max_features=1000)"
   ]
  },
  {
   "cell_type": "code",
   "execution_count": 60,
   "metadata": {
    "_uuid": "70c71f3bd686f989e504d8574b645b3bc3026e84",
    "executionInfo": {
     "elapsed": 1221,
     "status": "aborted",
     "timestamp": 1702429200749,
     "user": {
      "displayName": "Alexandria Perocho",
      "userId": "08190836204391597776"
     },
     "user_tz": 480
    },
    "id": "TLYBqyo8ql__"
   },
   "outputs": [],
   "source": [
    "TF_IDF_matrix = vectorizer_train.fit_transform(text)"
   ]
  },
  {
   "cell_type": "code",
   "execution_count": 61,
   "metadata": {
    "_uuid": "6f8c7f50bea68a8b3878bdf91da12d87434863de",
    "executionInfo": {
     "elapsed": 1219,
     "status": "aborted",
     "timestamp": 1702429200749,
     "user": {
      "displayName": "Alexandria Perocho",
      "userId": "08190836204391597776"
     },
     "user_tz": 480
    },
    "id": "_vVHOyHWql__"
   },
   "outputs": [],
   "source": [
    "lda = LatentDirichletAllocation(n_components=no_topics, max_iter=5, learning_method='online', learning_offset=50,random_state=11).fit(TF_IDF_matrix)"
   ]
  },
  {
   "cell_type": "code",
   "execution_count": 62,
   "metadata": {
    "_uuid": "07526c92eb492e38f47d9d1bddeedbfdb36a25a9",
    "executionInfo": {
     "elapsed": 1218,
     "status": "aborted",
     "timestamp": 1702429200750,
     "user": {
      "displayName": "Alexandria Perocho",
      "userId": "08190836204391597776"
     },
     "user_tz": 480
    },
    "id": "B-9vqnxjql__"
   },
   "outputs": [
    {
     "name": "stdout",
     "output_type": "stream",
     "text": [
      "--------------------------------------------\n",
      "Topic 0:\n",
      "div function var html script class page jquery id input\n",
      "--------------------------------------------\n",
      "--------------------------------------------\n",
      "Topic 1:\n",
      "use app ios would find xcode like know android application\n",
      "--------------------------------------------\n",
      "--------------------------------------------\n",
      "Topic 2:\n",
      "00 scala font 09 01 02 tab utf-8 socket constant\n",
      "--------------------------------------------\n",
      "--------------------------------------------\n",
      "Topic 3:\n",
      "array list number data value would use like way function\n",
      "--------------------------------------------\n",
      "--------------------------------------------\n",
      "Topic 4:\n",
      "android width color height div background scroll style image top\n",
      "--------------------------------------------\n",
      "--------------------------------------------\n",
      "Topic 5:\n",
      "import python module modules def random filter statement docs 22\n",
      "--------------------------------------------\n",
      "--------------------------------------------\n",
      "Topic 6:\n",
      "button view android activity app event click menu item screen\n",
      "--------------------------------------------\n",
      "--------------------------------------------\n",
      "Topic 7:\n",
      "date datetime format 17 echo 00 time 15 convert year\n",
      "--------------------------------------------\n",
      "--------------------------------------------\n",
      "Topic 8:\n",
      "int public class return string void std type new foo\n",
      "--------------------------------------------\n",
      "--------------------------------------------\n",
      "Topic 9:\n",
      "file project error run use build command try install version\n",
      "--------------------------------------------\n",
      "--------------------------------------------\n",
      "Topic 10:\n",
      "table select query row column sql database id key value\n",
      "--------------------------------------------\n",
      "--------------------------------------------\n",
      "Topic 11:\n",
      "image json td tr cell label selector picture table img\n",
      "--------------------------------------------\n",
      "--------------------------------------------\n",
      "Topic 12:\n",
      "request server use error user file get url send connection\n",
      "--------------------------------------------\n",
      "--------------------------------------------\n",
      "Topic 13:\n",
      "rail gem ruby 12 11 14 pdf 13 10 18\n",
      "--------------------------------------------\n",
      "--------------------------------------------\n",
      "Topic 14:\n",
      "124 string character line match node text file regex print\n",
      "--------------------------------------------\n",
      "--------------------------------------------\n",
      "Topic 15:\n",
      "git branch commit push repository merge github master remote pull\n",
      "--------------------------------------------\n",
      "--------------------------------------------\n",
      "Topic 16:\n",
      "controller class model view use name public property get object\n",
      "--------------------------------------------\n",
      "--------------------------------------------\n",
      "Topic 17:\n",
      "thread exception catch queue throw lock bitmap child wait exit\n",
      "--------------------------------------------\n",
      "--------------------------------------------\n",
      "Topic 18:\n",
      "nsstring nil animate animation self dictionary cursor yes hide iphone\n",
      "--------------------------------------------\n",
      "--------------------------------------------\n",
      "Topic 19:\n",
      "use would function memory code like question test time one\n",
      "--------------------------------------------\n"
     ]
    }
   ],
   "source": [
    "def display_topics(model, feature_names, no_top_words):\n",
    "    for topic_idx, topic in enumerate(model.components_):\n",
    "        print(\"--------------------------------------------\")\n",
    "        print(\"Topic %d:\" % (topic_idx))\n",
    "        print(\" \".join([feature_names[i]\n",
    "                        for i in topic.argsort()[:-no_top_words - 1:-1]]))\n",
    "        print(\"--------------------------------------------\")\n",
    "\n",
    "\n",
    "no_top_words = 10\n",
    "feature_names = np.array(vectorizer_train.get_feature_names_out())\n",
    "display_topics(lda, feature_names, no_top_words)"
   ]
  },
  {
   "cell_type": "markdown",
   "metadata": {
    "_uuid": "709f989864c43312c2a3606583be434572b75e40",
    "id": "D1TFjv1EqmAA"
   },
   "source": [
    "May not be that great but we are certain that it can be done better."
   ]
  },
  {
   "cell_type": "markdown",
   "metadata": {
    "_uuid": "119c8c35293cccd9627b58544acaaf06b4cb32d2",
    "id": "gsXUY_QJqmAA"
   },
   "source": [
    "**PART 2: Classical classifiers**"
   ]
  },
  {
   "cell_type": "markdown",
   "metadata": {
    "_uuid": "4d7d89ca6323645d6bf722bd572852edc2b9571c",
    "id": "bfVs9q9fqmAA"
   },
   "source": [
    "**2.1 Data preparation**"
   ]
  },
  {
   "cell_type": "markdown",
   "metadata": {
    "_uuid": "ccbc4065cdf68e9ef58fcad2889fc7454372425a",
    "id": "kODyrh3aqmAA"
   },
   "source": [
    "Now our data is almost ready to be put into a classifier. We just need to:\n",
    "* Binarize the tags\n",
    "* Use a TFIDF for body and Title\n",
    "The parameters in the TFIDF are very important for the performance of our tags since we don't want to delete words like c# or.net.\n",
    "To do that we need to use the following pattern : token_pattern=r\"(?u)\\S\\S+\""
   ]
  },
  {
   "cell_type": "code",
   "execution_count": 63,
   "metadata": {
    "_uuid": "8640de349b18ea297f15c3d3eed3836d3ed19e14",
    "executionInfo": {
     "elapsed": 1216,
     "status": "aborted",
     "timestamp": 1702429200750,
     "user": {
      "displayName": "Alexandria Perocho",
      "userId": "08190836204391597776"
     },
     "user_tz": 480
    },
    "id": "JR4PLGWsqmAA"
   },
   "outputs": [],
   "source": [
    "X1 = new_df['Body']\n",
    "X2 = new_df['Title']\n",
    "y = new_df['Tags']"
   ]
  },
  {
   "cell_type": "code",
   "execution_count": 64,
   "metadata": {
    "_uuid": "a4669f647cb5a147710294f1116ac4e2f29f50d7",
    "executionInfo": {
     "elapsed": 1214,
     "status": "aborted",
     "timestamp": 1702429200750,
     "user": {
      "displayName": "Alexandria Perocho",
      "userId": "08190836204391597776"
     },
     "user_tz": 480
    },
    "id": "oBadfc_gqmAB"
   },
   "outputs": [],
   "source": [
    "multilabel_binarizer = MultiLabelBinarizer()\n",
    "y_bin = multilabel_binarizer.fit_transform(y)"
   ]
  },
  {
   "cell_type": "code",
   "execution_count": 65,
   "metadata": {
    "_uuid": "e8fd01469710da8a69fc45de00d37901d570814a",
    "executionInfo": {
     "elapsed": 1212,
     "status": "aborted",
     "timestamp": 1702429200750,
     "user": {
      "displayName": "Alexandria Perocho",
      "userId": "08190836204391597776"
     },
     "user_tz": 480
    },
    "id": "un_uvLsUqmAB"
   },
   "outputs": [],
   "source": [
    "vectorizer_X1 = TfidfVectorizer(analyzer = 'word',\n",
    "                                       min_df=0.0,\n",
    "                                       max_df = 1.0,\n",
    "                                       strip_accents = None,\n",
    "                                       encoding = 'utf-8',\n",
    "                                       preprocessor=None,\n",
    "                                       token_pattern=r\"(?u)\\S\\S+\",\n",
    "                                       max_features=1000)\n",
    "\n",
    "vectorizer_X2 = TfidfVectorizer(analyzer = 'word',\n",
    "                                       min_df=0.0,\n",
    "                                       max_df = 1.0,\n",
    "                                       strip_accents = None,\n",
    "                                       encoding = 'utf-8',\n",
    "                                       preprocessor=None,\n",
    "                                       token_pattern=r\"(?u)\\S\\S+\",\n",
    "                                       max_features=1000)"
   ]
  },
  {
   "cell_type": "code",
   "execution_count": 66,
   "metadata": {
    "_uuid": "2fa0c121a6510f161df99e7fd882534214a8e380",
    "executionInfo": {
     "elapsed": 1211,
     "status": "aborted",
     "timestamp": 1702429200750,
     "user": {
      "displayName": "Alexandria Perocho",
      "userId": "08190836204391597776"
     },
     "user_tz": 480
    },
    "id": "z67jInAsqmAB"
   },
   "outputs": [],
   "source": [
    "X1_tfidf = vectorizer_X1.fit_transform(X1)\n",
    "X2_tfidf = vectorizer_X2.fit_transform(X2)"
   ]
  },
  {
   "cell_type": "code",
   "execution_count": 67,
   "metadata": {
    "_uuid": "d241fca148de1384e5323d2b194feb52727d14e1",
    "executionInfo": {
     "elapsed": 1209,
     "status": "aborted",
     "timestamp": 1702429200750,
     "user": {
      "displayName": "Alexandria Perocho",
      "userId": "08190836204391597776"
     },
     "user_tz": 480
    },
    "id": "Qxfpe_rEqmAB"
   },
   "outputs": [],
   "source": [
    "X_tfidf = hstack([X1_tfidf,X2_tfidf])"
   ]
  },
  {
   "cell_type": "code",
   "execution_count": 68,
   "metadata": {
    "_uuid": "1219d6cdc1f1d27c90910659f1be21a917f9288e",
    "executionInfo": {
     "elapsed": 1208,
     "status": "aborted",
     "timestamp": 1702429200750,
     "user": {
      "displayName": "Alexandria Perocho",
      "userId": "08190836204391597776"
     },
     "user_tz": 480
    },
    "id": "dp8GsR5qqmAB"
   },
   "outputs": [],
   "source": [
    "X_train, X_test, y_train, y_test = train_test_split(X_tfidf, y_bin, test_size = 0.2, random_state = 0) # Do 80/20 split"
   ]
  },
  {
   "cell_type": "markdown",
   "metadata": {
    "_uuid": "d9ba6707c5aef3d55a7a5a8d33182c87d83af703",
    "id": "CDtlbeABqmAC"
   },
   "source": [
    "Now it's finally ready."
   ]
  },
  {
   "cell_type": "markdown",
   "metadata": {
    "_uuid": "6755c0843211713e0b4bf90cb4618cfdaa9fef85",
    "id": "dmieYertqmAC"
   },
   "source": [
    "**2.2 One vs Rest**"
   ]
  },
  {
   "cell_type": "markdown",
   "metadata": {
    "_uuid": "c4448315a460e141e1c8b079b809c1040e4fc050",
    "id": "piqMoMwSqmAC"
   },
   "source": [
    "To evaluate our models, we'll use the jacard score since it's the best fitted for multi label classification."
   ]
  },
  {
   "cell_type": "code",
   "execution_count": 69,
   "metadata": {
    "_kg_hide-input": true,
    "_uuid": "03e10593770e8b27cb2a9574efcc9cd8b6dabbd6",
    "executionInfo": {
     "elapsed": 1207,
     "status": "aborted",
     "timestamp": 1702429200750,
     "user": {
      "displayName": "Alexandria Perocho",
      "userId": "08190836204391597776"
     },
     "user_tz": 480
    },
    "id": "RXB6PRs7qmAC"
   },
   "outputs": [],
   "source": [
    "def avg_jacard(y_true,y_pred):\n",
    "    '''\n",
    "    see https://en.wikipedia.org/wiki/Multi-label_classification#Statistics_and_evaluation_metrics\n",
    "    '''\n",
    "    jacard = np.minimum(y_true,y_pred).sum(axis=1) / np.maximum(y_true,y_pred).sum(axis=1)\n",
    "\n",
    "    return jacard.mean()*100\n",
    "\n",
    "def print_score(y_pred, clf):\n",
    "    print(\"Clf: \", clf.__class__.__name__)\n",
    "    print(\"Jacard score: {}\".format(avg_jacard(y_test, y_pred)))\n",
    "    print(\"Hamming loss: {}\".format(hamming_loss(y_pred, y_test)*100))\n",
    "    print(\"---\")"
   ]
  },
  {
   "cell_type": "code",
   "execution_count": 70,
   "metadata": {
    "_kg_hide-input": true,
    "_uuid": "6fb3326bc2c812cd991ca969762e54190b548150",
    "executionInfo": {
     "elapsed": 1205,
     "status": "aborted",
     "timestamp": 1702429200750,
     "user": {
      "displayName": "Alexandria Perocho",
      "userId": "08190836204391597776"
     },
     "user_tz": 480
    },
    "id": "7er4bpgJqmAD"
   },
   "outputs": [
    {
     "name": "stdout",
     "output_type": "stream",
     "text": [
      "Clf:  DummyClassifier\n",
      "Jacard score: 0.0\n",
      "Hamming loss: 1.5717112553427262\n",
      "---\n",
      "Clf:  SGDClassifier\n",
      "Jacard score: 47.69273389267057\n",
      "Hamming loss: 0.9550419502928607\n",
      "---\n",
      "Clf:  LogisticRegression\n",
      "Jacard score: 48.314468893462085\n",
      "Hamming loss: 0.9712680069653316\n",
      "---\n",
      "Clf:  MultinomialNB\n",
      "Jacard score: 40.30181219234568\n",
      "Hamming loss: 1.1750039575747981\n",
      "---\n",
      "Clf:  LinearSVC\n",
      "Jacard score: 52.356208115666725\n",
      "Hamming loss: 0.9552794047807505\n",
      "---\n",
      "Clf:  Perceptron\n",
      "Jacard score: 46.88522530536143\n",
      "Hamming loss: 1.4487098306157986\n",
      "---\n",
      "Clf:  PassiveAggressiveClassifier\n",
      "Jacard score: 49.43142842066382\n",
      "Hamming loss: 1.2679278138356813\n",
      "---\n"
     ]
    }
   ],
   "source": [
    "dummy = DummyClassifier()\n",
    "sgd = SGDClassifier()\n",
    "lr = LogisticRegression()\n",
    "mn = MultinomialNB()\n",
    "svc = LinearSVC()\n",
    "perceptron = Perceptron()\n",
    "pac = PassiveAggressiveClassifier()\n",
    "\n",
    "for classifier in [dummy, sgd, lr, mn, svc, perceptron, pac]:\n",
    "    clf = OneVsRestClassifier(classifier)\n",
    "    clf.fit(X_train, y_train)\n",
    "    y_pred = clf.predict(X_test)\n",
    "    print_score(y_pred, classifier)"
   ]
  },
  {
   "cell_type": "markdown",
   "metadata": {
    "_uuid": "7615d72e56406afe2d981b72b0b69ceff34aca91",
    "id": "IxF2DgVCqmAD"
   },
   "source": [
    "**2.3 MLP Classifier**"
   ]
  },
  {
   "cell_type": "code",
   "execution_count": 71,
   "metadata": {
    "_kg_hide-input": true,
    "_uuid": "43560fbdf7c0232998cbb9ff303b257fae491eab",
    "executionInfo": {
     "elapsed": 1205,
     "status": "aborted",
     "timestamp": 1702429200751,
     "user": {
      "displayName": "Alexandria Perocho",
      "userId": "08190836204391597776"
     },
     "user_tz": 480
    },
    "id": "M4flsXpWqmAD"
   },
   "outputs": [
    {
     "name": "stdout",
     "output_type": "stream",
     "text": [
      "Clf:  MLPClassifier\n",
      "Jacard score: 48.61684645363607\n",
      "Hamming loss: 1.339480766186481\n",
      "---\n"
     ]
    }
   ],
   "source": [
    "mlpc = MLPClassifier()\n",
    "mlpc.fit(X_train, y_train)\n",
    "\n",
    "y_pred = mlpc.predict(X_test)\n",
    "\n",
    "print_score(y_pred, mlpc)"
   ]
  },
  {
   "cell_type": "markdown",
   "metadata": {
    "_uuid": "4bbd3c1f3db69cfa7d59e9bb77a89e1ee21620b9",
    "id": "tX8_3uUcqmAD"
   },
   "source": [
    "**2.4 Random Forest**"
   ]
  },
  {
   "cell_type": "code",
   "execution_count": 72,
   "metadata": {
    "_kg_hide-input": true,
    "_uuid": "237dd4c165fc9433a1d146a2ba16bd7c085d90c5",
    "executionInfo": {
     "elapsed": 1204,
     "status": "aborted",
     "timestamp": 1702429200751,
     "user": {
      "displayName": "Alexandria Perocho",
      "userId": "08190836204391597776"
     },
     "user_tz": 480
    },
    "id": "l9EK_4qmqmAE"
   },
   "outputs": [
    {
     "name": "stdout",
     "output_type": "stream",
     "text": [
      "Clf:  RandomForestClassifier\n",
      "Jacard score: 45.27399609519287\n",
      "Hamming loss: 1.0140098147854995\n",
      "---\n"
     ]
    }
   ],
   "source": [
    "rfc = RandomForestClassifier()\n",
    "rfc.fit(X_train, y_train)\n",
    "\n",
    "y_pred = rfc.predict(X_test)\n",
    "\n",
    "print_score(y_pred, rfc)"
   ]
  },
  {
   "cell_type": "markdown",
   "metadata": {
    "_uuid": "b565bd1188ff3a760d2c687052bcbdd730661c25",
    "id": "Gj04W6TEqmAE"
   },
   "source": [
    "**2.5 GridSearch CV on the best classifier **"
   ]
  },
  {
   "cell_type": "code",
   "execution_count": 73,
   "metadata": {
    "_uuid": "8296f35a8035826033f78093a6d6826ceeaf6bb3",
    "executionInfo": {
     "elapsed": 1201,
     "status": "aborted",
     "timestamp": 1702429200752,
     "user": {
      "displayName": "Alexandria Perocho",
      "userId": "08190836204391597776"
     },
     "user_tz": 480
    },
    "id": "0vhhct-jqmAE"
   },
   "outputs": [],
   "source": [
    "param_grid = {'estimator__C':[1,10,100,1000]\n",
    "              }"
   ]
  },
  {
   "cell_type": "code",
   "execution_count": 74,
   "metadata": {
    "_kg_hide-output": true,
    "_uuid": "1bbe3e12fa2b1e55af3030d57a7212d46c6156e4",
    "executionInfo": {
     "elapsed": 1199,
     "status": "aborted",
     "timestamp": 1702429200752,
     "user": {
      "displayName": "Alexandria Perocho",
      "userId": "08190836204391597776"
     },
     "user_tz": 480
    },
    "id": "1fXIFTAcqmAE"
   },
   "outputs": [
    {
     "name": "stdout",
     "output_type": "stream",
     "text": [
      "Fitting 5 folds for each of 4 candidates, totalling 20 fits\n",
      "[CV 1/5; 1/4] START estimator__C=1..............................................\n",
      "[CV 1/5; 1/4] END ..............estimator__C=1;, score=52.335 total time=  21.4s\n",
      "[CV 2/5; 1/4] START estimator__C=1..............................................\n",
      "[CV 2/5; 1/4] END ..............estimator__C=1;, score=52.115 total time=  16.2s\n",
      "[CV 3/5; 1/4] START estimator__C=1..............................................\n",
      "[CV 3/5; 1/4] END ..............estimator__C=1;, score=51.207 total time=  16.8s\n",
      "[CV 4/5; 1/4] START estimator__C=1..............................................\n",
      "[CV 4/5; 1/4] END ..............estimator__C=1;, score=50.967 total time=  17.3s\n",
      "[CV 5/5; 1/4] START estimator__C=1..............................................\n",
      "[CV 5/5; 1/4] END ..............estimator__C=1;, score=51.546 total time=  16.2s\n",
      "[CV 1/5; 2/4] START estimator__C=10.............................................\n",
      "[CV 1/5; 2/4] END .............estimator__C=10;, score=48.658 total time=  49.0s\n",
      "[CV 2/5; 2/4] START estimator__C=10.............................................\n",
      "[CV 2/5; 2/4] END .............estimator__C=10;, score=48.319 total time=  48.4s\n",
      "[CV 3/5; 2/4] START estimator__C=10.............................................\n",
      "[CV 3/5; 2/4] END .............estimator__C=10;, score=47.885 total time=  51.9s\n",
      "[CV 4/5; 2/4] START estimator__C=10.............................................\n",
      "[CV 4/5; 2/4] END .............estimator__C=10;, score=46.934 total time=  48.9s\n",
      "[CV 5/5; 2/4] START estimator__C=10.............................................\n",
      "[CV 5/5; 2/4] END .............estimator__C=10;, score=47.594 total time=  52.4s\n",
      "[CV 1/5; 3/4] START estimator__C=100............................................\n",
      "[CV 1/5; 3/4] END ............estimator__C=100;, score=44.843 total time= 1.3min\n",
      "[CV 2/5; 3/4] START estimator__C=100............................................\n",
      "[CV 2/5; 3/4] END ............estimator__C=100;, score=44.714 total time= 1.3min\n",
      "[CV 3/5; 3/4] START estimator__C=100............................................\n",
      "[CV 3/5; 3/4] END ............estimator__C=100;, score=44.281 total time= 1.2min\n",
      "[CV 4/5; 3/4] START estimator__C=100............................................\n",
      "[CV 4/5; 3/4] END ............estimator__C=100;, score=43.676 total time= 1.2min\n",
      "[CV 5/5; 3/4] START estimator__C=100............................................\n",
      "[CV 5/5; 3/4] END ............estimator__C=100;, score=44.229 total time= 1.1min\n",
      "[CV 1/5; 4/4] START estimator__C=1000...........................................\n",
      "[CV 1/5; 4/4] END ...........estimator__C=1000;, score=42.181 total time= 1.3min\n",
      "[CV 2/5; 4/4] START estimator__C=1000...........................................\n",
      "[CV 2/5; 4/4] END ...........estimator__C=1000;, score=42.160 total time= 1.4min\n",
      "[CV 3/5; 4/4] START estimator__C=1000...........................................\n",
      "[CV 3/5; 4/4] END ...........estimator__C=1000;, score=41.202 total time= 1.3min\n",
      "[CV 4/5; 4/4] START estimator__C=1000...........................................\n",
      "[CV 4/5; 4/4] END ...........estimator__C=1000;, score=41.306 total time= 1.3min\n",
      "[CV 5/5; 4/4] START estimator__C=1000...........................................\n",
      "[CV 5/5; 4/4] END ...........estimator__C=1000;, score=42.190 total time= 1.9min\n"
     ]
    },
    {
     "data": {
      "text/plain": [
       "GridSearchCV(cv=5, estimator=OneVsRestClassifier(estimator=LinearSVC()),\n",
       "             param_grid={'estimator__C': [1, 10, 100, 1000]},\n",
       "             scoring=make_scorer(avg_jacard), verbose=10)"
      ]
     },
     "execution_count": 74,
     "metadata": {},
     "output_type": "execute_result"
    }
   ],
   "source": [
    "svc = OneVsRestClassifier(LinearSVC())\n",
    "CV_svc = model_selection.GridSearchCV(estimator=svc, param_grid=param_grid, cv= 5, verbose=10, scoring=make_scorer(avg_jacard,greater_is_better=True))\n",
    "CV_svc.fit(X_train, y_train)"
   ]
  },
  {
   "cell_type": "code",
   "execution_count": 75,
   "metadata": {
    "_uuid": "e192adaeaf60e362ee8cf71c3e2439aa15067576",
    "executionInfo": {
     "elapsed": 1197,
     "status": "aborted",
     "timestamp": 1702429200752,
     "user": {
      "displayName": "Alexandria Perocho",
      "userId": "08190836204391597776"
     },
     "user_tz": 480
    },
    "id": "Lq8EclKAqmAE"
   },
   "outputs": [
    {
     "data": {
      "text/plain": [
       "{'estimator__C': 1}"
      ]
     },
     "execution_count": 75,
     "metadata": {},
     "output_type": "execute_result"
    }
   ],
   "source": [
    "CV_svc.best_params_"
   ]
  },
  {
   "cell_type": "code",
   "execution_count": 76,
   "metadata": {
    "_uuid": "20290a9fdc51cf5155dd062462c7910fd6fe8b6e",
    "executionInfo": {
     "elapsed": 1195,
     "status": "aborted",
     "timestamp": 1702429200752,
     "user": {
      "displayName": "Alexandria Perocho",
      "userId": "08190836204391597776"
     },
     "user_tz": 480
    },
    "id": "7Ck945q_qmAE"
   },
   "outputs": [],
   "source": [
    "best_model = CV_svc.best_estimator_"
   ]
  },
  {
   "cell_type": "code",
   "execution_count": 77,
   "metadata": {
    "_uuid": "2029b6994027cd3bba479ccf3c155a8b77ec17df",
    "executionInfo": {
     "elapsed": 1194,
     "status": "aborted",
     "timestamp": 1702429200752,
     "user": {
      "displayName": "Alexandria Perocho",
      "userId": "08190836204391597776"
     },
     "user_tz": 480
    },
    "id": "OjBudHSTqmAE"
   },
   "outputs": [
    {
     "name": "stdout",
     "output_type": "stream",
     "text": [
      "Clf:  OneVsRestClassifier\n",
      "Jacard score: 52.356208115666725\n",
      "Hamming loss: 0.9552794047807505\n",
      "---\n"
     ]
    }
   ],
   "source": [
    "y_pred = best_model.predict(X_test)\n",
    "\n",
    "print_score(y_pred, best_model)"
   ]
  },
  {
   "cell_type": "markdown",
   "metadata": {
    "_uuid": "c14aca676e8fe5e65beba7b40ce7d6295e8a4242",
    "id": "tHwI8YxiqmAF"
   },
   "source": [
    "**2.6 Confusion matrix**"
   ]
  },
  {
   "cell_type": "code",
   "execution_count": 78,
   "metadata": {
    "_kg_hide-output": true,
    "_uuid": "444d6f85d6c9c121c3ecf4654cb7a37e21974321",
    "executionInfo": {
     "elapsed": 1192,
     "status": "aborted",
     "timestamp": 1702429200752,
     "user": {
      "displayName": "Alexandria Perocho",
      "userId": "08190836204391597776"
     },
     "user_tz": 480
    },
    "id": "I7IbTWv-qmAF"
   },
   "outputs": [
    {
     "name": "stdout",
     "output_type": "stream",
     "text": [
      ".net\n",
      "[[12033    54]\n",
      " [  447   100]]\n",
      "\n",
      "ajax\n",
      "[[12526    15]\n",
      " [   55    38]]\n",
      "\n",
      "algorithm\n",
      "[[12445    21]\n",
      " [   87    81]]\n",
      "\n",
      "android\n",
      "[[11528    40]\n",
      " [  194   872]]\n",
      "\n",
      "angularjs\n",
      "[[12443     7]\n",
      " [   49   135]]\n",
      "\n",
      "api\n",
      "[[12567    14]\n",
      " [   45     8]]\n",
      "\n",
      "arrays\n",
      "[[12405    55]\n",
      " [  103    71]]\n",
      "\n",
      "asp.net\n",
      "[[12346    30]\n",
      " [  166    92]]\n",
      "\n",
      "asp.net-mvc\n",
      "[[12402    41]\n",
      " [   99    92]]\n",
      "\n",
      "asp.net-mvc-3\n",
      "[[12566    11]\n",
      " [   44    13]]\n",
      "\n",
      "bash\n",
      "[[12520     7]\n",
      " [   46    61]]\n",
      "\n",
      "c\n",
      "[[12220    58]\n",
      " [  203   153]]\n",
      "\n",
      "c#\n",
      "[[11060   175]\n",
      " [  618   781]]\n",
      "\n",
      "c++\n",
      "[[11674    91]\n",
      " [  260   609]]\n",
      "\n",
      "c++11\n",
      "[[12453    31]\n",
      " [  103    47]]\n",
      "\n",
      "class\n",
      "[[12574    12]\n",
      " [   45     3]]\n",
      "\n",
      "cocoa\n",
      "[[12553     4]\n",
      " [   69     8]]\n",
      "\n",
      "cocoa-touch\n",
      "[[12530    10]\n",
      " [   90     4]]\n",
      "\n",
      "css\n",
      "[[12186    74]\n",
      " [  123   251]]\n",
      "\n",
      "css3\n",
      "[[12561    13]\n",
      " [   45    15]]\n",
      "\n",
      "database\n",
      "[[12503    29]\n",
      " [   84    18]]\n",
      "\n",
      "datetime\n",
      "[[12571    17]\n",
      " [   36    10]]\n",
      "\n",
      "debugging\n",
      "[[12523    27]\n",
      " [   50    34]]\n",
      "\n",
      "delphi\n",
      "[[12542     2]\n",
      " [   39    51]]\n",
      "\n",
      "design-patterns\n",
      "[[12573    11]\n",
      " [   36    14]]\n",
      "\n",
      "django\n",
      "[[12465     7]\n",
      " [   31   131]]\n",
      "\n",
      "eclipse\n",
      "[[12472     9]\n",
      " [   55    98]]\n",
      "\n",
      "emacs\n",
      "[[12591     1]\n",
      " [   16    26]]\n",
      "\n",
      "entity-framework\n",
      "[[12547    20]\n",
      " [   36    31]]\n",
      "\n",
      "exception\n",
      "[[12551    17]\n",
      " [   43    23]]\n",
      "\n",
      "facebook\n",
      "[[12571     9]\n",
      " [   17    37]]\n",
      "\n",
      "function\n",
      "[[12576    11]\n",
      " [   44     3]]\n",
      "\n",
      "gcc\n",
      "[[12566    12]\n",
      " [   35    21]]\n",
      "\n",
      "generics\n",
      "[[12558     9]\n",
      " [   31    36]]\n",
      "\n",
      "git\n",
      "[[12425     8]\n",
      " [   17   184]]\n",
      "\n",
      "github\n",
      "[[12575     5]\n",
      " [   23    31]]\n",
      "\n",
      "google-chrome\n",
      "[[12559     8]\n",
      " [   33    34]]\n",
      "\n",
      "haskell\n",
      "[[12497     5]\n",
      " [   70    62]]\n",
      "\n",
      "hibernate\n",
      "[[12570     5]\n",
      " [   16    43]]\n",
      "\n",
      "html\n",
      "[[12109   102]\n",
      " [  261   162]]\n",
      "\n",
      "html5\n",
      "[[12506     7]\n",
      " [   77    44]]\n",
      "\n",
      "http\n",
      "[[12563    14]\n",
      " [   41    16]]\n",
      "\n",
      "image\n",
      "[[12561    15]\n",
      " [   50     8]]\n",
      "\n",
      "ios\n",
      "[[12001    93]\n",
      " [  283   257]]\n",
      "\n",
      "ipad\n",
      "[[12573     2]\n",
      " [   42    17]]\n",
      "\n",
      "iphone\n",
      "[[12227    49]\n",
      " [  246   112]]\n",
      "\n",
      "java\n",
      "[[11130   144]\n",
      " [  565   795]]\n",
      "\n",
      "javascript\n",
      "[[11338   168]\n",
      " [  511   617]]\n",
      "\n",
      "jquery\n",
      "[[12011    65]\n",
      " [  199   359]]\n",
      "\n",
      "json\n",
      "[[12474    24]\n",
      " [   65    71]]\n",
      "\n",
      "linq\n",
      "[[12536    14]\n",
      " [   37    47]]\n",
      "\n",
      "linux\n",
      "[[12420    27]\n",
      " [  121    66]]\n",
      "\n",
      "list\n",
      "[[12540    19]\n",
      " [   61    14]]\n",
      "\n",
      "math\n",
      "[[12577    10]\n",
      " [   46     1]]\n",
      "\n",
      "maven\n",
      "[[12563    15]\n",
      " [   15    41]]\n",
      "\n",
      "mongodb\n",
      "[[12569     1]\n",
      " [   33    31]]\n",
      "\n",
      "multithreading\n",
      "[[12468    25]\n",
      " [   85    56]]\n",
      "\n",
      "mysql\n",
      "[[12363    32]\n",
      " [   74   165]]\n",
      "\n",
      "node.js\n",
      "[[12446    13]\n",
      " [   71   104]]\n",
      "\n",
      "numpy\n",
      "[[12579     4]\n",
      " [   26    25]]\n",
      "\n",
      "objective-c\n",
      "[[12199    81]\n",
      " [  249   105]]\n",
      "\n",
      "oop\n",
      "[[12573     5]\n",
      " [   56     0]]\n",
      "\n",
      "optimization\n",
      "[[12584     4]\n",
      " [   46     0]]\n",
      "\n",
      "oracle\n",
      "[[12576     3]\n",
      " [   25    30]]\n",
      "\n",
      "osx\n",
      "[[12493    15]\n",
      " [   88    38]]\n",
      "\n",
      "performance\n",
      "[[12437    29]\n",
      " [  133    35]]\n",
      "\n",
      "perl\n",
      "[[12563     0]\n",
      " [   27    44]]\n",
      "\n",
      "php\n",
      "[[12001    38]\n",
      " [  218   377]]\n",
      "\n",
      "postgresql\n",
      "[[12572     0]\n",
      " [   29    33]]\n",
      "\n",
      "python\n",
      "[[11715    51]\n",
      " [  240   628]]\n",
      "\n",
      "qt\n",
      "[[12585     2]\n",
      " [   24    23]]\n",
      "\n",
      "r\n",
      "[[12384    31]\n",
      " [   97   122]]\n",
      "\n",
      "regex\n",
      "[[12499    10]\n",
      " [   41    84]]\n",
      "\n",
      "rest\n",
      "[[12565     9]\n",
      " [   30    30]]\n",
      "\n",
      "ruby\n",
      "[[12311    36]\n",
      " [  158   129]]\n",
      "\n",
      "ruby-on-rails\n",
      "[[12304    41]\n",
      " [  105   184]]\n",
      "\n",
      "ruby-on-rails-3\n",
      "[[12526    21]\n",
      " [   75    12]]\n",
      "\n",
      "scala\n",
      "[[12488     7]\n",
      " [   36   103]]\n",
      "\n",
      "security\n",
      "[[12564     9]\n",
      " [   44    17]]\n",
      "\n",
      "shell\n",
      "[[12554    13]\n",
      " [   43    24]]\n",
      "\n",
      "spring\n",
      "[[12516    15]\n",
      " [   35    68]]\n",
      "\n",
      "sql\n",
      "[[12269    70]\n",
      " [  158   137]]\n",
      "\n",
      "sql-server\n",
      "[[12390    50]\n",
      " [   98    96]]\n",
      "\n",
      "string\n",
      "[[12432    54]\n",
      " [   93    55]]\n",
      "\n",
      "svn\n",
      "[[12586     6]\n",
      " [   12    30]]\n",
      "\n",
      "swift\n",
      "[[12521     5]\n",
      " [   35    73]]\n",
      "\n",
      "swing\n",
      "[[12582     2]\n",
      " [   28    22]]\n",
      "\n",
      "templates\n",
      "[[12542    13]\n",
      " [   44    35]]\n",
      "\n",
      "tsql\n",
      "[[12562    16]\n",
      " [   52     4]]\n",
      "\n",
      "twitter-bootstrap\n",
      "[[12565     2]\n",
      " [   21    46]]\n",
      "\n",
      "unit-testing\n",
      "[[12478    28]\n",
      " [   70    58]]\n",
      "\n",
      "vim\n",
      "[[12571     2]\n",
      " [   15    46]]\n",
      "\n",
      "visual-studio\n",
      "[[12497    29]\n",
      " [   72    36]]\n",
      "\n",
      "visual-studio-2010\n",
      "[[12542    17]\n",
      " [   52    23]]\n",
      "\n",
      "wcf\n",
      "[[12583     0]\n",
      " [   12    39]]\n",
      "\n",
      "windows\n",
      "[[12454    30]\n",
      " [  112    38]]\n",
      "\n",
      "winforms\n",
      "[[12556    14]\n",
      " [   42    22]]\n",
      "\n",
      "wpf\n",
      "[[12463     8]\n",
      " [   55   108]]\n",
      "\n",
      "xcode\n",
      "[[12426    26]\n",
      " [  102    80]]\n",
      "\n",
      "xml\n",
      "[[12507    17]\n",
      " [   58    52]]\n",
      "\n"
     ]
    }
   ],
   "source": [
    "for i in range(y_train.shape[1]):\n",
    "    print(multilabel_binarizer.classes_[i])\n",
    "    print(confusion_matrix(y_test[:,i], y_pred[:,i]))\n",
    "    print(\"\")"
   ]
  },
  {
   "cell_type": "markdown",
   "metadata": {
    "_uuid": "5917ac43e2fc1dd4e09cbcd3eaf9d209860c371b",
    "id": "75jnXE_vqmAF"
   },
   "source": [
    "**2.7 Exctracting feature importance**"
   ]
  },
  {
   "cell_type": "code",
   "execution_count": 79,
   "metadata": {
    "_uuid": "cb0790a18efaf21740784c00df81289725a66598",
    "executionInfo": {
     "elapsed": 1191,
     "status": "aborted",
     "timestamp": 1702429200753,
     "user": {
      "displayName": "Alexandria Perocho",
      "userId": "08190836204391597776"
     },
     "user_tz": 480
    },
    "id": "VsqUiCERqmAF"
   },
   "outputs": [],
   "source": [
    "def print_top10(feature_names, clf, class_labels):\n",
    "    \"\"\"Prints features with the highest coefficient values, per class\"\"\"\n",
    "    for i, class_label in enumerate(class_labels):\n",
    "        # Access the internal model's coefficients\n",
    "        if hasattr(clf.estimators_[i], 'coef_'):\n",
    "            coefficients = clf.estimators_[i].coef_\n",
    "\n",
    "            # Debugging prints\n",
    "            print(f\"Feature names length: {len(feature_names)}\")\n",
    "            print(f\"Coefficients shape: {coefficients.shape}\")\n",
    "\n",
    "            # Ensure the size of top10 does not exceed the length of feature_names\n",
    "            top10_indices = np.argsort(coefficients[0])[-min(10, coefficients.shape[1]):]\n",
    "\n",
    "            # Filter out indices greater than or equal to the length of feature_names\n",
    "            top10_indices = [idx for idx in top10_indices if idx < len(feature_names)]\n",
    "\n",
    "            top10_values = coefficients[0, top10_indices]\n",
    "\n",
    "            print(\"--------------------------------------------\")\n",
    "            print(f\"{class_label}: {', '.join(f'{feature_names[j]} ({top10_values[idx]:.2f})' for idx, j in enumerate(top10_indices))}\")"
   ]
  },
  {
   "cell_type": "code",
   "execution_count": 80,
   "metadata": {
    "_uuid": "4445db4758034e793a38710a09779bfb9f447c5c",
    "executionInfo": {
     "elapsed": 1190,
     "status": "aborted",
     "timestamp": 1702429200753,
     "user": {
      "displayName": "Alexandria Perocho",
      "userId": "08190836204391597776"
     },
     "user_tz": 480
    },
    "id": "mghbsUx1qmAF"
   },
   "outputs": [],
   "source": [
    "feature_names_X1 = vectorizer_X1.get_feature_names_out()\n",
    "feature_names_X2 = vectorizer_X2.get_feature_names_out()\n",
    "\n",
    "# Combine feature names\n",
    "feature_names_combined = feature_names_X1 + feature_names_X2"
   ]
  },
  {
   "cell_type": "code",
   "execution_count": 81,
   "metadata": {
    "executionInfo": {
     "elapsed": 1188,
     "status": "aborted",
     "timestamp": 1702429200753,
     "user": {
      "displayName": "Alexandria Perocho",
      "userId": "08190836204391597776"
     },
     "user_tz": 480
    },
    "id": "AJtVRzG7qmAF"
   },
   "outputs": [
    {
     "name": "stdout",
     "output_type": "stream",
     "text": [
      "Feature names length: 1000\n",
      "Coefficients shape: (1, 2000)\n",
      "--------------------------------------------\n",
      ".net: determinedocument (0.65), finallyfragment (0.65), senderscale (0.67), windowswebview (0.68), assemblyboost (0.75), microsoftmock (0.83), consolewritelinecurl (0.85), .net100 (2.89)\n",
      "Feature names length: 1000\n",
      "Coefficients shape: (1, 2000)\n",
      "--------------------------------------------\n",
      "ajax: muchmove (0.90), imginitialize (0.94), requestremote (0.99), webvs (0.99), itemsitem (1.00), securityrun (1.07), loadlinux (1.26), ajaxarray (2.75)\n",
      "Feature names length: 1000\n",
      "Coefficients shape: (1, 2000)\n",
      "--------------------------------------------\n",
      "algorithm: logload (1.27), inputinstead (1.28), additionalarea (1.35), sticksqlalchemy (1.38), giveheight (1.42), althoughattribute (1.44), problemprimary (1.56), algorithmassembly (2.84)\n",
      "Feature names length: 1000\n",
      "Coefficients shape: (1, 2000)\n",
      "--------------------------------------------\n",
      "android: eandroidruntimeempty (2.03), linearlayoutlibrary (2.32), fragmentgo (2.38), intentinterfaces (2.94), textviewtag (3.23), activityapplication (3.50), androidautocomplete (6.36)\n",
      "Feature names length: 1000\n",
      "Coefficients shape: (1, 2000)\n",
      "--------------------------------------------\n",
      "angularjs: resourcerepeat (1.07), tokentheme (1.19), configcould (1.29), controllerday (2.05), scoperotate (2.78)\n",
      "Feature names length: 1000\n",
      "Coefficients shape: (1, 2000)\n",
      "--------------------------------------------\n",
      "api: virtualversus (1.01), interfaceinternet (1.02), retrieverequest (1.09), dealdevelop (1.11), docseditor (1.19), dependencydirective (1.27), apibar (2.19)\n",
      "Feature names length: 1000\n",
      "Coefficients shape: (1, 2000)\n",
      "--------------------------------------------\n",
      "arrays: particularparent (0.96), restreport (1.03), successstill (1.05), usernameupdate (1.05), comecontain (1.09), arrayblank (1.80)\n",
      "Feature names length: 1000\n",
      "Coefficients shape: (1, 2000)\n",
      "--------------------------------------------\n",
      "asp.net: tracetitle (0.90), websitewait (1.02), controldatetime (1.06), serverscript (1.07), asp.netboolean (2.93)\n",
      "Feature names length: 1000\n",
      "Coefficients shape: (1, 2000)\n",
      "--------------------------------------------\n",
      "asp.net-mvc: trytransaction (1.04), ieinherit (1.05), inheritinstal (1.05), providerproper (1.07), actionappear (1.11), viewversions (1.29), mvcmust (3.09)\n",
      "Feature names length: 1000\n",
      "Coefficients shape: (1, 2000)\n",
      "--------------------------------------------\n",
      "asp.net-mvc-3: usunicode (0.92), insteadintellij (0.94), preferport (0.97), descriptiondisplay (0.97), successfullystl (1.06), sideselection (1.07), downloadefficiently (1.15), viewversions (1.21)\n",
      "Feature names length: 1000\n",
      "Coefficients shape: (1, 2000)\n",
      "--------------------------------------------\n",
      "bash: shortseem (1.09), locallist (1.11), homeiis (1.11), 21advantage (1.18), 22affect (1.21), variablesvalidate (1.28), syntaxstyle (1.30), scriptrout (1.35), echoencode (1.68)\n",
      "Feature names length: 1000\n",
      "Coefficients shape: (1, 2000)\n",
      "--------------------------------------------\n",
      "c: relevantreflection (1.10), sizeofset (1.15), definedialog (1.18), charcompiler (1.48), structstatement (1.54), embederror (1.56), gcchandler (1.96), printfpress (2.86)\n",
      "Feature names length: 1000\n",
      "Coefficients shape: (1, 2000)\n",
      "--------------------------------------------\n",
      "c#: datetimedesign (1.17), remainrefresh (1.19), senderscale (1.38), typeoftrue (1.66), foreachgithub (1.98), consolewritelinecurl (4.02), c#cocoa (5.41)\n",
      "Feature names length: 1000\n",
      "Coefficients shape: (1, 2000)\n",
      "--------------------------------------------\n",
      "c++: boostcharacter (2.31), coutdefinition (2.40), stdspring (3.39), c++cod (4.81)\n",
      "Feature names length: 1000\n",
      "Coefficients shape: (1, 2000)\n",
      "--------------------------------------------\n",
      "c++11: obviouslyopen (1.20), initializeinstallation (1.22), standardspace (1.30), viavector (1.38), stdspring (1.51), templatesyntax (1.52), movemonth (1.52), autobrowsers (1.88)\n",
      "Feature names length: 1000\n",
      "Coefficients shape: (1, 2000)\n",
      "--------------------------------------------\n",
      "class: thingtarget (1.03), wheneverwarn (1.06), outsideoutside (1.11), nextnext (1.13), quitepure (1.15), coutdefinition (1.38)\n",
      "Feature names length: 1000\n",
      "Coefficients shape: (1, 2000)\n",
      "--------------------------------------------\n",
      "cocoa: windowwebsite (1.01), lastkey (1.04), notificationnumpy (1.07), launchkill (1.12), superstrange (1.13), 21advantage (1.13), easilyemulator (1.24), nslogobject (1.33), maclose (1.34)\n",
      "Feature names length: 1000\n",
      "Coefficients shape: (1, 2000)\n",
      "--------------------------------------------\n",
      "cocoa-touch: amountauthentication (0.94), animationautomatically (0.96), severalsecure (1.01), validateusage (1.01), longerlog (1.06)\n",
      "Feature names length: 1000\n",
      "Coefficients shape: (1, 2000)\n",
      "--------------------------------------------\n",
      "css: tracetitle (1.12), sticksqlalchemy (1.14), overrideoverflow (1.18), coupledefault (1.18), webvs (1.27), lesslayer (1.57), fixgcc (1.73), cssdelete (3.13)\n",
      "Feature names length: 1000\n",
      "Coefficients shape: (1, 2000)\n",
      "--------------------------------------------\n",
      "css3: waysvoid (1.09), mustmultiple (1.14), transformtomcat (1.15), 50android (1.17), selectorsample (1.66)\n",
      "Feature names length: 1000\n",
      "Coefficients shape: (1, 2000)\n",
      "--------------------------------------------\n",
      "database: msmouse (0.89), configurationcount (0.92), resolverender (1.04), databasedeprecate (1.44)\n",
      "Feature names length: 1000\n",
      "Coefficients shape: (1, 2000)\n",
      "--------------------------------------------\n",
      "datetime: reasonrail (0.92), 092012 (0.96), providerproper (1.07), exexpressions (1.16), behaviorcancel (1.19), wonderwidth (1.23), preferport (1.25), originaloriginal (1.26), datetimedesign (1.86)\n",
      "Feature names length: 1000\n",
      "Coefficients shape: (1, 2000)\n",
      "--------------------------------------------\n",
      "debugging: supposestring (0.99), bugclear (1.32), attachbottom (1.37), debugdeveloper (2.38)\n",
      "Feature names length: 1000\n",
      "Coefficients shape: (1, 2000)\n",
      "--------------------------------------------\n",
      "delphi: samplerestful (1.04), unitubuntu (1.08), oldoperations (1.08), 2010admin (1.30), finallyfragment (1.32), componentcore (1.43), endevaluate (1.44), begincamera (1.91), procedureprivate (2.12)\n",
      "Feature names length: 1000\n",
      "Coefficients shape: (1, 2000)\n",
      "--------------------------------------------\n",
      "design-patterns: thinktell (1.14), developerdom (1.16), specificallyslow (1.17), usefulunix (1.18), designdiv (1.26), cleanconfiguration (1.26), patternpartial (2.35)\n",
      "Feature names length: 1000\n",
      "Coefficients shape: (1, 2000)\n",
      "--------------------------------------------\n",
      "django: instalintegers (0.95), playphonegap (1.04), textjavascripttabs (1.08), placepermissions (1.09), adminarguments (1.09), modelmodule (1.16), djangoeclipse (5.17)\n",
      "Feature names length: 1000\n",
      "Coefficients shape: (1, 2000)\n",
      "--------------------------------------------\n",
      "eclipse: propertiesprogress (0.90), othersosx (0.91), problemprimary (0.92), softwareshare (1.26), eclipseend (3.97)\n",
      "Feature names length: 1000\n",
      "Coefficients shape: (1, 2000)\n",
      "--------------------------------------------\n",
      "emacs: searchrspec (0.76), enableescape (0.77), recentlyrange (0.80), behaviourcannot (0.88), configurecpu (0.89), 24algorithm (0.95), modemodify (0.96), nilnode (1.08), bufferclause (1.22)\n",
      "Feature names length: 1000\n",
      "Coefficients shape: (1, 2000)\n",
      "--------------------------------------------\n",
      "entity-framework: contextdatatable (1.13), propertyproject (1.15), applybehaviour (1.15), dbdetermine (1.31), firstgame (1.39), entityexample (1.41), frameworkgoogle (1.47)\n",
      "Feature names length: 1000\n",
      "Coefficients shape: (1, 2000)\n",
      "--------------------------------------------\n",
      "exception: insteadintellij (0.98), wowidget (1.01), validateusage (1.04), insertint (1.10), kindjson (1.11), senseschema (1.49), exceptionextract (1.62), exceptionsfacebook (1.88)\n",
      "Feature names length: 1000\n",
      "Coefficients shape: (1, 2000)\n",
      "--------------------------------------------\n",
      "facebook: confusecrash (0.88), postpointer (0.91), sdkrow (1.00), callbackcollections (1.01), askbody (1.01), effectenter (1.04), facebookfinish (3.13)\n",
      "Feature names length: 1000\n",
      "Coefficients shape: (1, 2000)\n",
      "--------------------------------------------\n",
      "function: boolchange (1.05), 24algorithm (1.09), functiongroup (1.12), enoughevents (1.23)\n",
      "Feature names length: 1000\n",
      "Coefficients shape: (1, 2000)\n",
      "--------------------------------------------\n",
      "gcc: enableescape (0.94), targetswift (0.97), tutorialtransition (0.98), marginmany (0.99), 32alternative (0.99), declaredevice (1.03), gcchandler (3.03)\n",
      "Feature names length: 1000\n",
      "Coefficients shape: (1, 2000)\n",
      "--------------------------------------------\n",
      "generics: typeoftrue (1.04), progressprofile (1.05), othersosx (1.15), recentlyrange (1.18), extendfile (1.32), viavector (1.35), generichaskell (2.01)\n",
      "Feature names length: 1000\n",
      "Coefficients shape: (1, 2000)\n",
      "--------------------------------------------\n",
      "git: locallist (0.99), commitcontext (1.02), mastermark (1.04), branchchoose (1.24), githeaders (3.05)\n",
      "Feature names length: 1000\n",
      "Coefficients shape: (1, 2000)\n",
      "--------------------------------------------\n",
      "github: bundleclient (0.86), accessanonymous (0.89), pushprotocol (0.98), upgradeunable (1.36), githubheap (3.17)\n",
      "Feature names length: 1000\n",
      "Coefficients shape: (1, 2000)\n",
      "--------------------------------------------\n",
      "google-chrome: hrefimplementation (0.89), insteadintellij (0.91), problemsprint (0.95), chromeconditional (2.75)\n",
      "Feature names length: 1000\n",
      "Coefficients shape: (1, 2000)\n",
      "--------------------------------------------\n",
      "haskell: boolchange (1.22), perhapspdf (1.35), derivedirectory (1.38), typetrigger (1.42), xswrite (1.54), languagekeep (1.55), appendbasic (1.56), maybemember (1.58), instanceintegration (1.73)\n",
      "Feature names length: 1000\n",
      "Coefficients shape: (1, 2000)\n",
      "--------------------------------------------\n",
      "hibernate: retrieverequest (0.94), generatehash (0.95), nothingnull (1.05), entityexample (1.08), fetchfolder (1.19), sessionsdk (1.20), transactiontoken (1.22)\n",
      "Feature names length: 1000\n",
      "Coefficients shape: (1, 2000)\n",
      "--------------------------------------------\n",
      "html: finallyfragment (0.92), tdswitch (0.94), alongasync (0.96), fixgcc (0.97), elementsenvironment (0.98), onclickoperator (1.00), htmlimplicit (1.73)\n",
      "Feature names length: 1000\n",
      "Coefficients shape: (1, 2000)\n",
      "--------------------------------------------\n",
      "html5: progressprofile (1.02), properprogramatically (1.06), browsercircle (1.08), mainmachine (1.14)\n",
      "Feature names length: 1000\n",
      "Coefficients shape: (1, 2000)\n",
      "--------------------------------------------\n",
      "http: enableescape (0.92), clientconnect (0.92), parampad (0.98), jsjoin (0.98), functionalitygui (1.03), requestremote (1.15), largekernel (1.16), httpimport (1.62)\n",
      "Feature names length: 1000\n",
      "Coefficients shape: (1, 2000)\n",
      "--------------------------------------------\n",
      "image: onclickoperator (1.16), aroundbitmap (1.17), confusecrash (1.20), imageinitialization (1.27), yesxcode (1.32), imginitialize (1.33), pictureperl (1.68)\n",
      "Feature names length: 1000\n",
      "Coefficients shape: (1, 2000)\n",
      "--------------------------------------------\n",
      "ios: nslogobject (1.01), delegatediff (1.04), uitry (1.04), dueelse (1.18), appbase (1.24), allocassign (1.25), applebatch (1.28), iosip (2.54)\n",
      "Feature names length: 1000\n",
      "Coefficients shape: (1, 2000)\n",
      "--------------------------------------------\n",
      "ipad: finishfree (0.89), orientationorientation (0.92), waysvoid (0.99), elseequal (0.99), detaildjango (1.00), lesslayer (1.00), hardhttp (1.02)\n",
      "Feature names length: 1000\n",
      "Coefficients shape: (1, 2000)\n",
      "--------------------------------------------\n",
      "iphone: ratherqt (0.89), coredebug (0.96), releasereference (1.02), delegatediff (1.20), iphoneipad (2.17)\n",
      "Feature names length: 1000\n",
      "Coefficients shape: (1, 2000)\n",
      "--------------------------------------------\n",
      "java: finalforward (1.23), jaritems (1.36), extendfile (1.50), systemoutprintlnsubversion (3.91), javaiterate (4.91)\n",
      "Feature names length: 1000\n",
      "Coefficients shape: (1, 2000)\n",
      "--------------------------------------------\n",
      "javascript: chromeconditional (1.13), onclickoperator (1.30), undefinedtwice (1.35), consolelogcsv (1.50), varusers (1.60), jsjoin (1.84), javascriptjar (3.62)\n",
      "Feature names length: 1000\n",
      "Coefficients shape: (1, 2000)\n",
      "--------------------------------------------\n",
      "jquery: completecookie (1.05), clickconflict (1.15), pluginplace (1.28), ajaxarray (1.58), readyquestion (1.63), jqueryjob (4.28)\n",
      "Feature names length: 1000\n",
      "Coefficients shape: (1, 2000)\n",
      "--------------------------------------------\n",
      "json: descriptiondisplay (0.94), callbackcollections (0.94), retrieverequest (0.95), anythingbackground (1.08), fieldfollow (1.12), jsonjpa (3.19)\n",
      "Feature names length: 1000\n",
      "Coefficients shape: (1, 2000)\n",
      "--------------------------------------------\n",
      "linq: inheritinstal (1.00), collectionconstant (1.07), sourcesingle (1.09), expressionfield (1.09), codconsole (1.16), varusers (1.19), wellwant (1.34)\n",
      "Feature names length: 1000\n",
      "Coefficients shape: (1, 2000)\n",
      "--------------------------------------------\n",
      "linux: setupsection (0.88), fillforeign (0.91), editengine (0.94), processproblem (0.95), childcomponent (0.98), statespecific (1.02), psproperly (1.30), linuxlimit (4.26)\n",
      "Feature names length: 1000\n",
      "Coefficients shape: (1, 2000)\n",
      "--------------------------------------------\n",
      "list: severalsecure (1.04), -110 (1.10), ratherqt (1.14), bigcast (1.19), listline (1.53)\n",
      "Feature names length: 1000\n",
      "Coefficients shape: (1, 2000)\n",
      "--------------------------------------------\n",
      "math: computercorrect (1.09), holdignore (1.10), uniquetype (1.11), hitiframe (1.14), logload (1.20), calculatecodeigniter (1.23), logiclocal (1.24), fastfix (1.29), assumeborder (1.30)\n",
      "Feature names length: 1000\n",
      "Coefficients shape: (1, 2000)\n",
      "--------------------------------------------\n",
      "maven: infoinsert (0.95), easyenable (0.97), yesxcode (1.00), dependencydirective (1.12), modulesmonitor (1.13), advancearound (1.19), executionfail (1.30), mavenmax (2.81)\n",
      "Feature names length: 1000\n",
      "Coefficients shape: (1, 2000)\n",
      "--------------------------------------------\n",
      "mongodb: thustest (1.00), shellsee (1.02), errexecution (1.03), dbdetermine (1.14), cursordependencies (1.30), documentedittext (1.39), collectionconstant (1.53)\n",
      "Feature names length: 1000\n",
      "Coefficients shape: (1, 2000)\n",
      "--------------------------------------------\n",
      "multithreading: completelycoordinate (0.98), suggestionsstorage (1.02), 10030 (1.03), solveshow (1.03), preventpostgres (1.12), completecookie (1.17), separatescope (1.35), locklive (1.87), threadtemplates (2.45)\n",
      "Feature names length: 1000\n",
      "Coefficients shape: (1, 2000)\n",
      "--------------------------------------------\n",
      "mysql: usunicode (1.07), usersupgrade (1.08), 24algorithm (1.09), limitlevel (1.09), databasedeprecate (1.12), rootresize (1.13), perpassword (1.18), tracktogether (1.22), mysqlmvc (5.13)\n",
      "Feature names length: 1000\n",
      "Coefficients shape: (1, 2000)\n",
      "--------------------------------------------\n",
      "node.js: schemaroot (1.41), âzoom (1.44), requireremove (1.48), nodenode.js (1.87), errexecution (2.17)\n",
      "Feature names length: 1000\n",
      "Coefficients shape: (1, 2000)\n",
      "--------------------------------------------\n",
      "numpy: insteadintellij (1.00), ignoreinheritance (1.01), importinjection (1.09), matrixmatrix (1.17), arrayblank (1.18), fixgcc (1.29), farfit (1.29)\n",
      "Feature names length: 1000\n",
      "Coefficients shape: (1, 2000)\n",
      "--------------------------------------------\n",
      "objective-c: exceptionsfacebook (1.09), iosip (1.13), selectorsample (1.14), textjavascripttabs (1.16), superstrange (1.32), nsstringobjective (1.50), nslogobject (1.63)\n",
      "Feature names length: 1000\n",
      "Coefficients shape: (1, 2000)\n",
      "--------------------------------------------\n",
      "oop: directlydrop (1.00), objectonclick (1.04), finishfree (1.09), coupledefault (1.18), classconfig (1.18), obviousone (1.18), fitgarbage (1.50), referreason (1.51), designdiv (1.56)\n",
      "Feature names length: 1000\n",
      "Coefficients shape: (1, 2000)\n",
      "--------------------------------------------\n",
      "optimization: siteservice (1.01), 052010 (1.04), compilerconvert (1.24), fasterflask (1.26), coupledefault (1.30)\n",
      "Feature names length: 1000\n",
      "Coefficients shape: (1, 2000)\n",
      "--------------------------------------------\n",
      "oracle: schemaroot (0.91), numberoccur (0.94), featurefloat (0.94), endevaluate (0.95), developerdom (1.03), replacerelationship (1.09), begincamera (1.27)\n",
      "Feature names length: 1000\n",
      "Coefficients shape: (1, 2000)\n",
      "--------------------------------------------\n",
      "osx: notificationnumpy (1.14), setupsection (1.15), applebatch (1.43), osos (1.70), maclose (2.27)\n",
      "Feature names length: 1000\n",
      "Coefficients shape: (1, 2000)\n",
      "--------------------------------------------\n",
      "performance: importantinline (1.05), entireexactly (1.07), waysvoid (1.22), fasterflask (1.38), slowsettings (1.59), performancepattern (2.38)\n",
      "Feature names length: 1000\n",
      "Coefficients shape: (1, 2000)\n",
      "--------------------------------------------\n",
      "perl: lesslayer (0.90), tracetitle (0.96), printprefix (0.97), scriptrout (1.04), warnvisible (1.06), foreachgithub (1.08), fetchfolder (1.11)\n",
      "Feature names length: 1000\n",
      "Coefficients shape: (1, 2000)\n",
      "--------------------------------------------\n",
      "php: modulesmonitor (1.08), constructcustom (1.18), foreachgithub (1.23), protectpromise (1.23), echoencode (1.47), arrayblank (1.65), phpperformance (5.96)\n",
      "Feature names length: 1000\n",
      "Coefficients shape: (1, 2000)\n",
      "--------------------------------------------\n",
      "postgresql: peoplepass (0.91), muchmove (0.94), severalsecure (0.95), docseditor (1.00), databasedeprecate (1.06), surestruct (1.06)\n",
      "Feature names length: 1000\n",
      "Coefficients shape: (1, 2000)\n",
      "--------------------------------------------\n",
      "python: importinjection (1.85), defdevices (2.27), pythonprovider (5.69)\n",
      "Feature names length: 1000\n",
      "Coefficients shape: (1, 2000)\n",
      "--------------------------------------------\n",
      "qt: effectenter (0.83), coulddeclaration (0.85), connectcreate (0.93), parentparallel (0.95), pictureperl (1.00), actuallyapply (1.01), developdocumentation (1.14)\n",
      "Feature names length: 1000\n",
      "Coefficients shape: (1, 2000)\n",
      "--------------------------------------------\n",
      "r: variablesvalidate (1.38), framegood (1.42), vectorvalue (1.58), functiongroup (1.62), librarylength (1.75), packageoverload (2.20), namvc3 (2.38), plotpip (2.39)\n",
      "Feature names length: 1000\n",
      "Coefficients shape: (1, 2000)\n",
      "--------------------------------------------\n",
      "regex: eitherentity (0.99), 17activerecord (1.06), operationoptimize (1.07), replacerelationship (1.08), severalsecure (1.23), matchmatch (1.76), regularredirect (2.06), regexrecord (3.18)\n",
      "Feature names length: 1000\n",
      "Coefficients shape: (1, 2000)\n",
      "--------------------------------------------\n",
      "rest: multiplemuch (0.99), anythingbackground (1.00), entityexample (1.03), servicescroll (1.17), senseschema (1.18), produceproblems (1.66), restreport (2.88)\n",
      "Feature names length: 1000\n",
      "Coefficients shape: (1, 2000)\n",
      "--------------------------------------------\n",
      "ruby: unfortunatelytwo (1.04), longerlog (1.06), putprovide (1.16), bundleclient (1.17), endevaluate (1.70), rubyresource (3.75)\n",
      "Feature names length: 1000\n",
      "Coefficients shape: (1, 2000)\n",
      "--------------------------------------------\n",
      "ruby-on-rails: configcould (1.10), productionprocess (1.21), renderregular (1.39), modelmodule (1.60), endevaluate (1.63), railpurpose (3.35)\n",
      "Feature names length: 1000\n",
      "Coefficients shape: (1, 2000)\n",
      "--------------------------------------------\n",
      "ruby-on-rails-3: configcould (1.02), originaloriginal (1.10), 27allow (1.11), coupledefault (1.16), deploydirectly (1.29), railpurpose (1.46)\n",
      "Feature names length: 1000\n",
      "Coefficients shape: (1, 2000)\n",
      "--------------------------------------------\n",
      "scala: transformtomcat (1.03), casecolumns (1.07), extendfile (1.13), equalexclude (1.18), defdevices (2.09), valurl (2.43), scalareturn (5.93)\n",
      "Feature names length: 1000\n",
      "Coefficients shape: (1, 2000)\n",
      "--------------------------------------------\n",
      "security: certificatecompilation (1.04), everythingexpression (1.10), providerproper (1.10), softwareshare (1.26), securityrun (2.48)\n",
      "Feature names length: 1000\n",
      "Coefficients shape: (1, 2000)\n",
      "--------------------------------------------\n",
      "shell: sortsimulator (1.05), correctdebugger (1.06), thingtarget (1.06), 22affect (1.11), parentparallel (1.25), attachbottom (1.37), shellsee (2.27)\n",
      "Feature names length: 1000\n",
      "Coefficients shape: (1, 2000)\n",
      "--------------------------------------------\n",
      "spring: finalforward (0.91), nestneed (0.93), brchild (1.02), primarypractice (1.04), infoinsert (1.24), beancall (1.66), springsolve (4.28)\n",
      "Feature names length: 1000\n",
      "Coefficients shape: (1, 2000)\n",
      "--------------------------------------------\n",
      "sql: topthrow (0.99), systemsubmit (1.02), varcharutf-8 (1.07), infoinsert (1.11), selectsafe (1.24), productionprocess (1.25), sqlsomething (1.80)\n",
      "Feature names length: 1000\n",
      "Coefficients shape: (1, 2000)\n",
      "--------------------------------------------\n",
      "sql-server: selectsafe (1.18), procedureprivate (1.34), sqlsomething (1.35), recommendraw (1.39), transactiontoken (1.47), varcharutf-8 (1.48), studiostatic (1.71), serverscript (1.96)\n",
      "Feature names length: 1000\n",
      "Coefficients shape: (1, 2000)\n",
      "--------------------------------------------\n",
      "string: remainrefresh (1.01), largekernel (1.03), assignbootstrap (1.06), tabsum (1.19), stringstate (1.50)\n",
      "Feature names length: 1000\n",
      "Coefficients shape: (1, 2000)\n",
      "--------------------------------------------\n",
      "svn: fineframework (0.81), sitserver (0.85), askbody (0.89), commitcontext (1.06), repositoryrelease (1.11), svnstructure (2.70)\n",
      "Feature names length: 1000\n",
      "Coefficients shape: (1, 2000)\n",
      "--------------------------------------------\n",
      "swift: awarebundle (1.00), developerdom (1.04), activeappend (1.11), initinstall (1.32), varusers (1.36), funcgrid (2.12), letlayout (2.51)\n",
      "Feature names length: 1000\n",
      "Coefficients shape: (1, 2000)\n",
      "--------------------------------------------\n",
      "swing: alsoattach (1.15), practicepointers (1.22), confusecrash (1.24), feelfocus (1.25), yetxml (1.32), framegood (1.35), newnew (1.50), componentcore (1.77)\n",
      "Feature names length: 1000\n",
      "Coefficients shape: (1, 2000)\n",
      "--------------------------------------------\n",
      "templates: typetrigger (1.03), dealdevelop (1.05), declaredevice (1.11), articleblock (1.14), dropelements (1.16), simplesend (1.48), templatesyntax (1.85)\n",
      "Feature names length: 1000\n",
      "Coefficients shape: (1, 2000)\n",
      "--------------------------------------------\n",
      "tsql: statementspecify (1.09), 32alternative (1.12), createdelegate (1.14), interestinternal (1.15), transactiontoken (1.16), equalexclude (1.18), realqueue (1.19), alreadyasynchronous (1.20), topthrow (1.49)\n",
      "Feature names length: 1000\n",
      "Coefficients shape: (1, 2000)\n",
      "--------------------------------------------\n",
      "twitter-bootstrap: browsercircle (0.84), importantinline (0.88), renderregular (0.89), classconfig (0.95), lesslayer (1.04)\n",
      "Feature names length: 1000\n",
      "Coefficients shape: (1, 2000)\n",
      "--------------------------------------------\n",
      "unit-testing: letlayout (1.05), severalsecure (1.11), troubletouch (1.12), thingstask (1.18), anybodyazure (1.20), unitubuntu (1.52), testtab (1.90)\n",
      "Feature names length: 1000\n",
      "Coefficients shape: (1, 2000)\n",
      "--------------------------------------------\n",
      "vim: visualvia (0.82), letlayout (0.82), bettercase (0.82), modifymodules (0.95), modemodify (0.99), stacksource (0.99), pluginplace (1.02), switchstudio (1.07), somewheresimulate (1.12)\n",
      "Feature names length: 1000\n",
      "Coefficients shape: (1, 2000)\n",
      "--------------------------------------------\n",
      "visual-studio: pointerplay (1.03), wheneverwarn (1.10), debugdeveloper (1.13), studiostatic (1.14), bigcast (1.21), visualvia (1.55), vsview (1.74)\n",
      "Feature names length: 1000\n",
      "Coefficients shape: (1, 2000)\n",
      "--------------------------------------------\n",
      "visual-studio-2010: greathighlight (0.96), anywaybad (1.01), presspossible (1.04), hitiframe (1.08), 45amp (1.13), definitiondictionary (1.16), 2010admin (3.17)\n",
      "Feature names length: 1000\n",
      "Coefficients shape: (1, 2000)\n",
      "--------------------------------------------\n",
      "wcf: reasonrail (0.81), securityrun (0.87), layerknow (0.91), softwareshare (0.94), bindcause (1.24), servicescroll (1.74)\n",
      "Feature names length: 1000\n",
      "Coefficients shape: (1, 2000)\n",
      "--------------------------------------------\n",
      "windows: dlledit (1.02), windowswebview (2.03)\n",
      "Feature names length: 1000\n",
      "Coefficients shape: (1, 2000)\n",
      "--------------------------------------------\n",
      "winforms: successstill (1.16), windowswebview (1.17), controldatetime (1.18), formgive (1.31), closeconnection (1.42)\n",
      "Feature names length: 1000\n",
      "Coefficients shape: (1, 2000)\n",
      "--------------------------------------------\n",
      "wpf: raisepush (1.08), resourcerepeat (1.16), childcomponent (1.17), controldatetime (1.22), propertyproject (1.23), visualvia (1.25), xmlnswrap (1.29), uitry (1.29), bindcause (2.00)\n",
      "Feature names length: 1000\n",
      "Coefficients shape: (1, 2000)\n",
      "--------------------------------------------\n",
      "xcode: bundleclient (1.02), logiclocal (1.04), targetswift (1.06), frameworkgoogle (1.21), profileproduce (1.22), xcodewould (2.76)\n",
      "Feature names length: 1000\n",
      "Coefficients shape: (1, 2000)\n",
      "--------------------------------------------\n",
      "xml: cleanconfiguration (1.01), applebatch (1.01), microsoftmock (1.05), tutorialtransition (1.08), templatesyntax (1.14), xswrite (1.15), layoutwidthlanguage (1.19), xmlwpf (3.29)\n"
     ]
    }
   ],
   "source": [
    "print_top10(feature_names_combined, best_model, multilabel_binarizer.classes_)"
   ]
  },
  {
   "cell_type": "code",
   "execution_count": null,
   "metadata": {
    "executionInfo": {
     "elapsed": 1187,
     "status": "aborted",
     "timestamp": 1702429200753,
     "user": {
      "displayName": "Alexandria Perocho",
      "userId": "08190836204391597776"
     },
     "user_tz": 480
    },
    "id": "wZI3Wc-3qmAF"
   },
   "outputs": [],
   "source": []
  },
  {
   "cell_type": "code",
   "execution_count": null,
   "metadata": {
    "executionInfo": {
     "elapsed": 1186,
     "status": "aborted",
     "timestamp": 1702429200753,
     "user": {
      "displayName": "Alexandria Perocho",
      "userId": "08190836204391597776"
     },
     "user_tz": 480
    },
    "id": "ZwPB827AqmAG"
   },
   "outputs": [],
   "source": []
  },
  {
   "cell_type": "code",
   "execution_count": null,
   "metadata": {},
   "outputs": [],
   "source": []
  },
  {
   "cell_type": "code",
   "execution_count": null,
   "metadata": {},
   "outputs": [],
   "source": []
  }
 ],
 "metadata": {
  "colab": {
   "provenance": []
  },
  "kernelspec": {
   "display_name": "Python 3 (ipykernel)",
   "language": "python",
   "name": "python3"
  },
  "language_info": {
   "codemirror_mode": {
    "name": "ipython",
    "version": 3
   },
   "file_extension": ".py",
   "mimetype": "text/x-python",
   "name": "python",
   "nbconvert_exporter": "python",
   "pygments_lexer": "ipython3",
   "version": "3.11.3"
  }
 },
 "nbformat": 4,
 "nbformat_minor": 1
}
